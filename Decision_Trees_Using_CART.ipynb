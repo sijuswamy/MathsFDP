{
  "nbformat": 4,
  "nbformat_minor": 0,
  "metadata": {
    "colab": {
      "name": "Decision Trees Using CART.ipynb",
      "provenance": [],
      "collapsed_sections": [],
      "include_colab_link": true
    },
    "kernelspec": {
      "name": "python3",
      "display_name": "Python 3"
    }
  },
  "cells": [
    {
      "cell_type": "markdown",
      "metadata": {
        "id": "view-in-github",
        "colab_type": "text"
      },
      "source": [
        "<a href=\"https://colab.research.google.com/github/sijuswamy/MarianFDP/blob/main/Decision_Trees_Using_CART.ipynb\" target=\"_parent\"><img src=\"https://colab.research.google.com/assets/colab-badge.svg\" alt=\"Open In Colab\"/></a>"
      ]
    },
    {
      "metadata": {
        "id": "5_kxN2_4xzTl"
      },
      "cell_type": "markdown",
      "source": [
        "# Decision Trees\n",
        "\n",
        "Decision Trees (DTs) are a non-parametric supervised learning method used for classification and regression. The goal is to create a model that predicts the value of a target variable by learning simple decision rules inferred from the data features.\n",
        "\n",
        "Classification and Regression Trees or CART for short is a term introduced by Leo Breiman to refer to Decision Tree algorithms that can be used for classification or regression predictive modeling problems.\n",
        "\n",
        "Classically, this algorithm is referred to as “decision trees”, but on some platforms like R they are referred to by the more modern term CART.\n",
        "\n",
        "The CART algorithm provides a foundation for important algorithms like bagged decision trees, random forest and boosted decision trees. \n",
        "Decision Trees are an important type of algorithm for predictive modeling machine learning.\n",
        "\n",
        "The classical decision tree algorithms have been around for decades and modern variations like random forest are among the most powerful techniques available.\n",
        "\n",
        "In this session you will discover the humble decision tree algorithm known by it’s more modern name **CART** which stands for Classification And Regression Trees. After reading this post, you will know:\n",
        "\n",
        "- The many names used to describe the **CART** algorithm for machine learning.\n",
        "- The representation used by learned CART models that is actually stored on disk.\n",
        "\n",
        "-  How a CART model can be learned from training data.\n",
        "\n",
        "- How a learned CART model can be used to make predictions on unseen data.\n",
        "- Additional resources that you can use to learn more about CART and related algorithms."
      ]
    },
    {
      "metadata": {
        "id": "oj3JarQIyx-2"
      },
      "cell_type": "markdown",
      "source": [
        "## CART Model Representation\n",
        "\n",
        "The representation for the CART model is a binary tree.\n",
        "\n",
        "This is your binary tree from algorithms and data structures, nothing too fancy. Each root node represents a single input variable ($x$) and a split point on that variable (assuming the variable is numeric).\n",
        "\n",
        "The leaf nodes of the tree contain an output variable ($y$) which is used to make a prediction.\n",
        "\n",
        "## Learn a CART Model From Data\n",
        "\n",
        "Creating a CART model involves selecting input variables and split points on those variables until a suitable tree is constructed.\n",
        "\n",
        "The selection of which input variable to use and the specific split or cut-point is chosen using a greedy algorithm to minimize a cost function. Tree construction ends using a predefined stopping criterion, such as a minimum number of training instances assigned to each leaf node of the tree.\n",
        "\n",
        "## Greedy Splitting\n",
        "\n",
        "Creating a binary decision tree is actually a process of dividing up the input space. A greedy approach is used to divide the space called recursive binary splitting.\n",
        "\n",
        "This is a numerical procedure where all the values are lined up and different split points are tried and tested using a cost function. The split with the best cost (lowest cost because we minimize cost) is selected.\n",
        "\n",
        "All input variables and all possible split points are evaluated and chosen in a greedy manner (e.g. the very best split point is chosen each time).\n",
        "\n",
        "1. For regression predictive modeling problems the cost function that is minimized to choose split points is the sum squared error across all training samples that fall within the rectangle (node).\n",
        "\n",
        "2. For classification the Gini index function is used which provides an indication of how “pure” the leaf nodes are (how mixed the training data assigned to each node is).\n",
        "\n",
        "$$G = \\sum p_k \\cdot (1 – p_k)$$\n",
        "\n",
        "Where G is the Gini index over all classes,$ p_k$ are the proportion of training instances with class k in the rectangle of interest. A node that has all classes of the same type (perfect class purity) will have G=0, where as a G that has a 50-50 split of classes for a binary classification problem (worst purity) will have a G=0.5."
      ]
    },
    {
      "metadata": {
        "id": "xzOLBSBdzfIO"
      },
      "cell_type": "markdown",
      "source": [
        "## Stopping Criterion\n",
        "The recursive binary splitting procedure described above needs to know when to stop splitting as it works its way down the tree with the training data.\n",
        "\n",
        "The most common stopping procedure is to use a minimum count on the number of training instances assigned to each leaf node. If the count is less than some minimum then the split is not accepted and the node is taken as a final leaf node.\n",
        "\n",
        "The count of training members is tuned to the dataset, e.g. 5 or 10. It defines how specific to the training data the tree will be. Too specific (e.g. a count of 1) and the tree will overfit the training data and likely have poor performance on the test set.\n",
        "\n",
        "## Pruning The Tree\n",
        "\n",
        "The stopping criterion is important as it strongly influences the performance of your tree. You can use pruning after learning your tree to further lift performance.\n",
        "\n",
        "The complexity of a decision tree is defined as the number of splits in the tree. Simpler trees are preferred. They are easy to understand (you can print them out and show them to subject matter experts), and they are less likely to overfit your data.\n",
        "\n",
        "The fastest and simplest pruning method is to work through each leaf node in the tree and evaluate the effect of removing it using a hold-out test set. Leaf nodes are removed only if it results in a drop in the overall cost function on the entire test set. You stop removing nodes when no further improvements can be made.\n",
        "\n",
        "More sophisticated pruning methods can be used such as cost complexity pruning (also called weakest link pruning) where a learning parameter (alpha) is used to weigh whether nodes can be removed based on the size of the sub-tree."
      ]
    },
    {
      "metadata": {
        "id": "ZAqHODaIznhm"
      },
      "cell_type": "markdown",
      "source": [
        "## Advantages and disadvantages of using CART\n",
        "\n",
        "*Some advantages of decision trees are*:\n",
        "\n",
        "1. Simple to understand and to interpret. Trees can be visualised.\n",
        "2. Requires little data preparation. Other techniques often require data normalisation, dummy variables need to be created and blank values to be removed. Note however that this module does not support missing values.\n",
        "3. The cost of using the tree (i.e., predicting data) is logarithmic in the number of data points used to train the tree.\n",
        "4. Able to handle both numerical and categorical data. Other techniques are usually specialised in analysing datasets that have only one type of variable. See algorithms for more information.\n",
        "5. Able to handle multi-output problems.\n",
        "6. Uses a white box model. If a given situation is observable in a model, the explanation for the condition is easily explained by boolean logic. By contrast, in a black box model (e.g., in an artificial neural network), results may be more difficult to interpret.\n",
        "7. Possible to validate a model using statistical tests. That makes it possible to account for the reliability of the model.\n",
        "8. Performs well even if its assumptions are somewhat violated by the true model from which the data were generated."
      ]
    },
    {
      "metadata": {
        "id": "ro7C4Li8z9vg"
      },
      "cell_type": "markdown",
      "source": [
        "*The notable disadvantages of decision trees are*:\n",
        "\n",
        "1. Decision-tree learners can create over-complex trees that do not generalise the data well. This is called overfitting. Mechanisms such as pruning (not currently supported), setting the minimum number of samples required at a leaf node or setting the maximum depth of the tree are necessary to avoid this problem.\n",
        "2. Decision trees can be unstable because small variations in the data might result in a completely different tree being generated. This problem is mitigated by using decision trees within an ensemble.\n",
        "3. The problem of learning an optimal decision tree is known to be NP-complete under several aspects of optimality and even for simple concepts. Consequently, practical decision-tree learning algorithms are based on heuristic algorithms such as the greedy algorithm where locally optimal decisions are made at each node. Such algorithms cannot guarantee to return the globally optimal decision tree. This can be mitigated by training multiple trees in an ensemble learner, where the features and samples are randomly sampled with replacement.\n",
        "4. There are concepts that are hard to learn because decision trees do not express them easily, such as XOR, parity or multiplexer problems.\n",
        "5. Decision tree learners create biased trees if some classes dominate. It is therefore recommended to balance the dataset prior to fitting with the decision tree."
      ]
    },
    {
      "metadata": {
        "id": "G4GvMJeS0PzU"
      },
      "cell_type": "markdown",
      "source": [
        "## CART algorithm using Scikit-Learn library\n",
        "\n",
        "### For Classification\n",
        "\n",
        "**DecisionTreeClassifier** is a class capable of performing multi-class classification on a dataset.\n",
        "\n",
        "As with other classifiers, DecisionTreeClassifier takes as input two arrays: an array $X$, sparse or dense, of size $[n-samples, n-features]$  holding the training samples, and an array $Y$ of integer values, size $[n_samples]$ , holding the class labels for the training samples:\n",
        "\n",
        "**Syntax**:\n",
        "\n",
        "*DecisionTreeClassifier(criterion=’gini’, splitter=’best’, max_depth=None, min_samples_split=2, min_samples_leaf=1, min_weight_fraction_leaf=0.0, max_features=None, random_state=None, max_leaf_nodes=None, min_impurity_decrease=0.0, min_impurity_split=None, class_weight=None, presort=False)*"
      ]
    },
    {
      "metadata": {
        "id": "16PT_QH907kU"
      },
      "cell_type": "markdown",
      "source": [
        "## Simple example\n",
        "\n"
      ]
    },
    {
      "metadata": {
        "id": "i7UsqVqsy8C2"
      },
      "cell_type": "markdown",
      "source": [
        "Generate a CART model to classify the datasets to the classes $0$ and $1$. Use $(0,0,0),(1,0,1)$ to train the model. (assume the last element in the ordered 3-tuple as the class label.)"
      ]
    },
    {
      "metadata": {
        "id": "r-chkiF_1XFY"
      },
      "cell_type": "code",
      "source": [
        "from sklearn import tree\n",
        "X = [[0, 0], [1, 1]]\n",
        "Y = [0, 1]\n",
        "clf = tree.DecisionTreeClassifier()\n",
        "clf = clf.fit(X, Y)## train the model"
      ],
      "execution_count": null,
      "outputs": []
    },
    {
      "metadata": {
        "id": "IW1owzZY1cJd",
        "outputId": "6a681287-ee86-4bad-9567-47053146eac1",
        "colab": {
          "base_uri": "https://localhost:8080/",
          "height": 35
        }
      },
      "cell_type": "code",
      "source": [
        "clf.predict([[2.0, 2.0]])## run the model on new data\n"
      ],
      "execution_count": null,
      "outputs": [
        {
          "output_type": "execute_result",
          "data": {
            "text/plain": [
              "array([1])"
            ]
          },
          "metadata": {
            "tags": []
          },
          "execution_count": 17
        }
      ]
    },
    {
      "metadata": {
        "id": "i3OqEf6Y2Bhd",
        "outputId": "f768b2e3-bdfa-4b0d-a900-98d848757891",
        "colab": {
          "base_uri": "https://localhost:8080/",
          "height": 34
        }
      },
      "cell_type": "code",
      "source": [
        "clf.predict_proba([[2., 2.]])## predict the probability of classification\n"
      ],
      "execution_count": null,
      "outputs": [
        {
          "output_type": "execute_result",
          "data": {
            "text/plain": [
              "array([[0., 1.]])"
            ]
          },
          "metadata": {
            "tags": []
          },
          "execution_count": 58
        }
      ]
    },
    {
      "metadata": {
        "id": "9sM_jeUY2TJm"
      },
      "cell_type": "markdown",
      "source": [
        "## Creating Tree visualizations"
      ]
    },
    {
      "metadata": {
        "id": "P6GQCn702XZ0",
        "outputId": "790861ac-e4ea-478c-e0da-cbcb1590e037",
        "colab": {
          "base_uri": "https://localhost:8080/",
          "height": 35
        }
      },
      "cell_type": "code",
      "source": [
        "import graphviz \n",
        "dot_data = tree.export_graphviz(clf, out_file=None) \n",
        "graph = graphviz.Source(dot_data) \n",
        "graph.render(\"sample\")"
      ],
      "execution_count": null,
      "outputs": [
        {
          "output_type": "execute_result",
          "data": {
            "text/plain": [
              "'sample.pdf'"
            ]
          },
          "metadata": {
            "tags": []
          },
          "execution_count": 4
        }
      ]
    },
    {
      "metadata": {
        "id": "lKZA3gfr2gNJ"
      },
      "cell_type": "markdown",
      "source": [
        "The export_graphviz exporter also supports a variety of aesthetic options, including coloring nodes by their class (or value for regression) and using explicit variable and class names if desired. Jupyter notebooks also render these plots inline automatically:"
      ]
    },
    {
      "metadata": {
        "id": "e61-Yk2s2c-F",
        "outputId": "392a763c-eae7-4cf5-9519-0276e8a5b52a",
        "colab": {
          "base_uri": "https://localhost:8080/",
          "height": 281
        }
      },
      "cell_type": "code",
      "source": [
        "dot_data = tree.export_graphviz(clf, out_file=None, \n",
        "                     feature_names=X,  \n",
        "                     class_names=str(Y),  \n",
        "                     filled=True, rounded=True,  \n",
        "                     special_characters=True)  \n",
        "graph = graphviz.Source(dot_data)  \n",
        "graph "
      ],
      "execution_count": null,
      "outputs": [
        {
          "output_type": "execute_result",
          "data": {
            "text/plain": [
              "<graphviz.files.Source at 0x7f095fe30630>"
            ],
            "image/svg+xml": "<?xml version=\"1.0\" encoding=\"UTF-8\" standalone=\"no\"?>\n<!DOCTYPE svg PUBLIC \"-//W3C//DTD SVG 1.1//EN\"\n \"http://www.w3.org/Graphics/SVG/1.1/DTD/svg11.dtd\">\n<!-- Generated by graphviz version 2.40.1 (20161225.0304)\n -->\n<!-- Title: Tree Pages: 1 -->\n<svg width=\"224pt\" height=\"195pt\"\n viewBox=\"0.00 0.00 224.00 195.00\" xmlns=\"http://www.w3.org/2000/svg\" xmlns:xlink=\"http://www.w3.org/1999/xlink\">\n<g id=\"graph0\" class=\"graph\" transform=\"scale(1 1) rotate(0) translate(4 191)\">\n<title>Tree</title>\n<polygon fill=\"#ffffff\" stroke=\"transparent\" points=\"-4,4 -4,-191 220,-191 220,4 -4,4\"/>\n<!-- 0 -->\n<g id=\"node1\" class=\"node\">\n<title>0</title>\n<path fill=\"transparent\" stroke=\"#000000\" d=\"M145,-187C145,-187 70,-187 70,-187 64,-187 58,-181 58,-175 58,-175 58,-116 58,-116 58,-110 64,-104 70,-104 70,-104 145,-104 145,-104 151,-104 157,-110 157,-116 157,-116 157,-175 157,-175 157,-181 151,-187 145,-187\"/>\n<text text-anchor=\"start\" x=\"74\" y=\"-171.8\" font-family=\"Helvetica,sans-Serif\" font-size=\"14.00\" fill=\"#000000\">[1, 1] ≤ 0.5</text>\n<text text-anchor=\"start\" x=\"78\" y=\"-156.8\" font-family=\"Helvetica,sans-Serif\" font-size=\"14.00\" fill=\"#000000\">gini = 0.5</text>\n<text text-anchor=\"start\" x=\"68\" y=\"-141.8\" font-family=\"Helvetica,sans-Serif\" font-size=\"14.00\" fill=\"#000000\">samples = 2</text>\n<text text-anchor=\"start\" x=\"66\" y=\"-126.8\" font-family=\"Helvetica,sans-Serif\" font-size=\"14.00\" fill=\"#000000\">value = [1, 1]</text>\n<text text-anchor=\"start\" x=\"80.5\" y=\"-111.8\" font-family=\"Helvetica,sans-Serif\" font-size=\"14.00\" fill=\"#000000\">class = [</text>\n</g>\n<!-- 1 -->\n<g id=\"node2\" class=\"node\">\n<title>1</title>\n<path fill=\"#e58139\" stroke=\"#000000\" d=\"M87,-68C87,-68 12,-68 12,-68 6,-68 0,-62 0,-56 0,-56 0,-12 0,-12 0,-6 6,0 12,0 12,0 87,0 87,0 93,0 99,-6 99,-12 99,-12 99,-56 99,-56 99,-62 93,-68 87,-68\"/>\n<text text-anchor=\"start\" x=\"20\" y=\"-52.8\" font-family=\"Helvetica,sans-Serif\" font-size=\"14.00\" fill=\"#000000\">gini = 0.0</text>\n<text text-anchor=\"start\" x=\"10\" y=\"-37.8\" font-family=\"Helvetica,sans-Serif\" font-size=\"14.00\" fill=\"#000000\">samples = 1</text>\n<text text-anchor=\"start\" x=\"8\" y=\"-22.8\" font-family=\"Helvetica,sans-Serif\" font-size=\"14.00\" fill=\"#000000\">value = [1, 0]</text>\n<text text-anchor=\"start\" x=\"22.5\" y=\"-7.8\" font-family=\"Helvetica,sans-Serif\" font-size=\"14.00\" fill=\"#000000\">class = [</text>\n</g>\n<!-- 0&#45;&gt;1 -->\n<g id=\"edge1\" class=\"edge\">\n<title>0&#45;&gt;1</title>\n<path fill=\"none\" stroke=\"#000000\" d=\"M85.9029,-103.9815C81.3612,-95.2504 76.5598,-86.0202 71.9863,-77.2281\"/>\n<polygon fill=\"#000000\" stroke=\"#000000\" points=\"75.0431,-75.52 67.3233,-68.2637 68.8331,-78.7504 75.0431,-75.52\"/>\n<text text-anchor=\"middle\" x=\"59.7983\" y=\"-88.4043\" font-family=\"Helvetica,sans-Serif\" font-size=\"14.00\" fill=\"#000000\">True</text>\n</g>\n<!-- 2 -->\n<g id=\"node3\" class=\"node\">\n<title>2</title>\n<path fill=\"#399de5\" stroke=\"#000000\" d=\"M204,-68C204,-68 129,-68 129,-68 123,-68 117,-62 117,-56 117,-56 117,-12 117,-12 117,-6 123,0 129,0 129,0 204,0 204,0 210,0 216,-6 216,-12 216,-12 216,-56 216,-56 216,-62 210,-68 204,-68\"/>\n<text text-anchor=\"start\" x=\"137\" y=\"-52.8\" font-family=\"Helvetica,sans-Serif\" font-size=\"14.00\" fill=\"#000000\">gini = 0.0</text>\n<text text-anchor=\"start\" x=\"127\" y=\"-37.8\" font-family=\"Helvetica,sans-Serif\" font-size=\"14.00\" fill=\"#000000\">samples = 1</text>\n<text text-anchor=\"start\" x=\"125\" y=\"-22.8\" font-family=\"Helvetica,sans-Serif\" font-size=\"14.00\" fill=\"#000000\">value = [0, 1]</text>\n<text text-anchor=\"start\" x=\"137.5\" y=\"-7.8\" font-family=\"Helvetica,sans-Serif\" font-size=\"14.00\" fill=\"#000000\">class = 0</text>\n</g>\n<!-- 0&#45;&gt;2 -->\n<g id=\"edge2\" class=\"edge\">\n<title>0&#45;&gt;2</title>\n<path fill=\"none\" stroke=\"#000000\" d=\"M129.4694,-103.9815C134.0895,-95.2504 138.9736,-86.0202 143.626,-77.2281\"/>\n<polygon fill=\"#000000\" stroke=\"#000000\" points=\"146.7859,-78.7395 148.3694,-68.2637 140.5987,-75.4655 146.7859,-78.7395\"/>\n<text text-anchor=\"middle\" x=\"155.7265\" y=\"-88.4566\" font-family=\"Helvetica,sans-Serif\" font-size=\"14.00\" fill=\"#000000\">False</text>\n</g>\n</g>\n</svg>\n"
          },
          "metadata": {
            "tags": []
          },
          "execution_count": 22
        }
      ]
    },
    {
      "metadata": {
        "id": "iZvd_AG0w-xN"
      },
      "cell_type": "markdown",
      "source": [
        "## Decision trees can also be applied to regression problems, using the *DecisionTreeRegressor class*.\n",
        "\n",
        "As in the classification setting, the fit method will take as argument arrays X and y, only that in this case y is expected to have floating point values instead of integer values:\n",
        "\n",
        "### Example"
      ]
    },
    {
      "metadata": {
        "id": "oDV--PUNxKkL",
        "colab": {
          "base_uri": "https://localhost:8080/",
          "height": 35
        },
        "outputId": "7af21c36-ce21-4d04-c49f-f4aa355c6968"
      },
      "cell_type": "code",
      "source": [
        "from sklearn import tree\n",
        "X = [[0, 0], [2, 2],[0.5,0.5],[3,2],[7,3],[6,5]]\n",
        "y = [0.5, 2.5, 1, 3, 5.5, 6]\n",
        "clf = tree.DecisionTreeRegressor()\n",
        "clf = clf.fit(X, y)\n",
        "clf.predict([[1, 1]])"
      ],
      "execution_count": null,
      "outputs": [
        {
          "output_type": "execute_result",
          "data": {
            "text/plain": [
              "array([1.])"
            ]
          },
          "metadata": {
            "tags": []
          },
          "execution_count": 24
        }
      ]
    },
    {
      "metadata": {
        "id": "n4Y4GuzrxTxx"
      },
      "cell_type": "markdown",
      "source": [
        "### Regression Tree\n",
        "\n",
        "\n"
      ]
    },
    {
      "metadata": {
        "id": "5rEqnNdLyRRt",
        "colab": {
          "base_uri": "https://localhost:8080/",
          "height": 295
        },
        "outputId": "67fa5edc-5098-404b-ddbe-e4d8ca7964dd"
      },
      "cell_type": "code",
      "source": [
        "# Import the necessary modules and libraries\n",
        "import numpy as np\n",
        "from sklearn.tree import DecisionTreeRegressor\n",
        "import matplotlib.pyplot as plt\n",
        "\n",
        "# Create a random dataset\n",
        "rng = np.random.RandomState(1)\n",
        "X = np.sort(5 * rng.rand(80, 1), axis=0)\n",
        "y = np.sin(X).ravel()\n",
        "y[::5] += 3 * (0.5 - rng.rand(16))\n",
        "\n",
        "# Fit regression model\n",
        "regr_1 = DecisionTreeRegressor(max_depth=2)\n",
        "regr_2 = DecisionTreeRegressor(max_depth=5)\n",
        "regr_1.fit(X, y)\n",
        "regr_2.fit(X, y)\n",
        "\n",
        "# Predict\n",
        "X_test = np.arange(0.0, 5.0, 0.01)[:, np.newaxis]\n",
        "y_1 = regr_1.predict(X_test)\n",
        "y_2 = regr_2.predict(X_test)\n",
        "\n",
        "# Plot the results\n",
        "plt.figure()\n",
        "plt.scatter(X, y, s=20, edgecolor=\"black\",\n",
        "            c=\"darkorange\", label=\"data\")\n",
        "plt.plot(X_test, y_1, color=\"cornflowerblue\",\n",
        "         label=\"max_depth=2\", linewidth=2)\n",
        "plt.plot(X_test, y_2, color=\"yellowgreen\", label=\"max_depth=5\", linewidth=2)\n",
        "plt.xlabel(\"data\")\n",
        "plt.ylabel(\"target\")\n",
        "plt.title(\"Decision Tree Regression\")\n",
        "plt.legend()\n",
        "plt.show()"
      ],
      "execution_count": null,
      "outputs": [
        {
          "output_type": "display_data",
          "data": {
            "image/png": "[encoded data removed]",
            "text/plain": [
              "<Figure size 432x288 with 1 Axes>"
            ]
          },
          "metadata": {
            "tags": []
          }
        }
      ]
    },
    {
      "metadata": {
        "id": "JAi829WN0LWv"
      },
      "cell_type": "code",
      "source": [
        "# Fit regression model\n",
        "regr_1 = DecisionTreeRegressor(max_depth=2)\n",
        "regr_2 = DecisionTreeRegressor(max_depth=5)\n",
        "regr_1.fit(X, y)\n",
        "regr_2.fit(X, y)"
      ],
      "execution_count": null,
      "outputs": []
    },
    {
      "metadata": {
        "id": "TYRml3zKyhZ5",
        "colab": {
          "base_uri": "https://localhost:8080/",
          "height": 287
        },
        "outputId": "661c9c67-afb3-46e2-acc9-5bcb48ab5db4"
      },
      "cell_type": "code",
      "source": [
        "plt.scatter(X,y)"
      ],
      "execution_count": null,
      "outputs": [
        {
          "output_type": "execute_result",
          "data": {
            "text/plain": [
              "<matplotlib.collections.PathCollection at 0x7f095feeca20>"
            ]
          },
          "metadata": {
            "tags": []
          },
          "execution_count": 12
        },
        {
          "output_type": "display_data",
          "data": {
            "image/png": "[encoded data removed]",
            "text/plain": [
              "<Figure size 432x288 with 1 Axes>"
            ]
          },
          "metadata": {
            "tags": []
          }
        }
      ]
    },
    {
      "metadata": {
        "id": "7EzNoTrJ68IV"
      },
      "cell_type": "markdown",
      "source": [
        "## Decision Tree Classification of Iris data set\n"
      ]
    },
    {
      "metadata": {
        "id": "p05LU3TlvDUx"
      },
      "cell_type": "code",
      "source": [
        "from sklearn.datasets import load_iris\n",
        "from sklearn import tree\n",
        "iris = load_iris()\n",
        "clf = tree.DecisionTreeClassifier()\n",
        "clf = clf.fit(iris.data, iris.target)"
      ],
      "execution_count": null,
      "outputs": []
    },
    {
      "metadata": {
        "id": "qLe6trcnvPpN",
        "outputId": "af641e56-e60f-4ef3-9459-86c1f6e67c27",
        "colab": {
          "base_uri": "https://localhost:8080/",
          "height": 35
        }
      },
      "cell_type": "code",
      "source": [
        "import graphviz \n",
        "dot_data = tree.export_graphviz(clf, out_file=None) \n",
        "graph = graphviz.Source(dot_data) \n",
        "graph.render(\"iris\") "
      ],
      "execution_count": null,
      "outputs": [
        {
          "output_type": "execute_result",
          "data": {
            "text/plain": [
              "'iris.pdf'"
            ]
          },
          "metadata": {
            "tags": []
          },
          "execution_count": 26
        }
      ]
    },
    {
      "metadata": {
        "id": "CQpJ-NhYvVaU",
        "outputId": "48badc08-18de-4e38-ecd6-12911cdfe155",
        "colab": {
          "base_uri": "https://localhost:8080/",
          "height": 936
        }
      },
      "cell_type": "code",
      "source": [
        "dot_data = tree.export_graphviz(clf, out_file=None, \n",
        "                     feature_names=iris.feature_names,  \n",
        "                     class_names=iris.target_names,  \n",
        "                     filled=True, rounded=True,  \n",
        "                     special_characters=True)  \n",
        "graph = graphviz.Source(dot_data)  \n",
        "graph "
      ],
      "execution_count": null,
      "outputs": [
        {
          "output_type": "execute_result",
          "data": {
            "text/plain": [
              "<graphviz.files.Source at 0x7f095fbc2f98>"
            ],
            "image/svg+xml": "<?xml version=\"1.0\" encoding=\"UTF-8\" standalone=\"no\"?>\n<!DOCTYPE svg PUBLIC \"-//W3C//DTD SVG 1.1//EN\"\n \"http://www.w3.org/Graphics/SVG/1.1/DTD/svg11.dtd\">\n<!-- Generated by graphviz version 2.40.1 (20161225.0304)\n -->\n<!-- Title: Tree Pages: 1 -->\n<svg width=\"905pt\" height=\"671pt\"\n viewBox=\"0.00 0.00 904.50 671.00\" xmlns=\"http://www.w3.org/2000/svg\" xmlns:xlink=\"http://www.w3.org/1999/xlink\">\n<g id=\"graph0\" class=\"graph\" transform=\"scale(1 1) rotate(0) translate(4 667)\">\n<title>Tree</title>\n<polygon fill=\"#ffffff\" stroke=\"transparent\" points=\"-4,4 -4,-667 900.5,-667 900.5,4 -4,4\"/>\n<!-- 0 -->\n<g id=\"node1\" class=\"node\">\n<title>0</title>\n<path fill=\"transparent\" stroke=\"#000000\" d=\"M536.5,-663C536.5,-663 407.5,-663 407.5,-663 401.5,-663 395.5,-657 395.5,-651 395.5,-651 395.5,-592 395.5,-592 395.5,-586 401.5,-580 407.5,-580 407.5,-580 536.5,-580 536.5,-580 542.5,-580 548.5,-586 548.5,-592 548.5,-592 548.5,-651 548.5,-651 548.5,-657 542.5,-663 536.5,-663\"/>\n<text text-anchor=\"start\" x=\"403.5\" y=\"-647.8\" font-family=\"Helvetica,sans-Serif\" font-size=\"14.00\" fill=\"#000000\">petal width (cm) ≤ 0.8</text>\n<text text-anchor=\"start\" x=\"434\" y=\"-632.8\" font-family=\"Helvetica,sans-Serif\" font-size=\"14.00\" fill=\"#000000\">gini = 0.667</text>\n<text text-anchor=\"start\" x=\"424\" y=\"-617.8\" font-family=\"Helvetica,sans-Serif\" font-size=\"14.00\" fill=\"#000000\">samples = 150</text>\n<text text-anchor=\"start\" x=\"410\" y=\"-602.8\" font-family=\"Helvetica,sans-Serif\" font-size=\"14.00\" fill=\"#000000\">value = [50, 50, 50]</text>\n<text text-anchor=\"start\" x=\"425\" y=\"-587.8\" font-family=\"Helvetica,sans-Serif\" font-size=\"14.00\" fill=\"#000000\">class = setosa</text>\n</g>\n<!-- 1 -->\n<g id=\"node2\" class=\"node\">\n<title>1</title>\n<path fill=\"#e58139\" stroke=\"#000000\" d=\"M441.5,-536.5C441.5,-536.5 342.5,-536.5 342.5,-536.5 336.5,-536.5 330.5,-530.5 330.5,-524.5 330.5,-524.5 330.5,-480.5 330.5,-480.5 330.5,-474.5 336.5,-468.5 342.5,-468.5 342.5,-468.5 441.5,-468.5 441.5,-468.5 447.5,-468.5 453.5,-474.5 453.5,-480.5 453.5,-480.5 453.5,-524.5 453.5,-524.5 453.5,-530.5 447.5,-536.5 441.5,-536.5\"/>\n<text text-anchor=\"start\" x=\"362.5\" y=\"-521.3\" font-family=\"Helvetica,sans-Serif\" font-size=\"14.00\" fill=\"#000000\">gini = 0.0</text>\n<text text-anchor=\"start\" x=\"348\" y=\"-506.3\" font-family=\"Helvetica,sans-Serif\" font-size=\"14.00\" fill=\"#000000\">samples = 50</text>\n<text text-anchor=\"start\" x=\"338.5\" y=\"-491.3\" font-family=\"Helvetica,sans-Serif\" font-size=\"14.00\" fill=\"#000000\">value = [50, 0, 0]</text>\n<text text-anchor=\"start\" x=\"345\" y=\"-476.3\" font-family=\"Helvetica,sans-Serif\" font-size=\"14.00\" fill=\"#000000\">class = setosa</text>\n</g>\n<!-- 0&#45;&gt;1 -->\n<g id=\"edge1\" class=\"edge\">\n<title>0&#45;&gt;1</title>\n<path fill=\"none\" stroke=\"#000000\" d=\"M444.0199,-579.8796C436.4797,-568.6636 428.3113,-556.5131 420.7309,-545.2372\"/>\n<polygon fill=\"#000000\" stroke=\"#000000\" points=\"423.5527,-543.1612 415.0689,-536.8149 417.7434,-547.0667 423.5527,-543.1612\"/>\n<text text-anchor=\"middle\" x=\"410.2608\" y=\"-557.6482\" font-family=\"Helvetica,sans-Serif\" font-size=\"14.00\" fill=\"#000000\">True</text>\n</g>\n<!-- 2 -->\n<g id=\"node3\" class=\"node\">\n<title>2</title>\n<path fill=\"transparent\" stroke=\"#000000\" d=\"M620.5,-544C620.5,-544 483.5,-544 483.5,-544 477.5,-544 471.5,-538 471.5,-532 471.5,-532 471.5,-473 471.5,-473 471.5,-467 477.5,-461 483.5,-461 483.5,-461 620.5,-461 620.5,-461 626.5,-461 632.5,-467 632.5,-473 632.5,-473 632.5,-532 632.5,-532 632.5,-538 626.5,-544 620.5,-544\"/>\n<text text-anchor=\"start\" x=\"479.5\" y=\"-528.8\" font-family=\"Helvetica,sans-Serif\" font-size=\"14.00\" fill=\"#000000\">petal width (cm) ≤ 1.75</text>\n<text text-anchor=\"start\" x=\"522.5\" y=\"-513.8\" font-family=\"Helvetica,sans-Serif\" font-size=\"14.00\" fill=\"#000000\">gini = 0.5</text>\n<text text-anchor=\"start\" x=\"504\" y=\"-498.8\" font-family=\"Helvetica,sans-Serif\" font-size=\"14.00\" fill=\"#000000\">samples = 100</text>\n<text text-anchor=\"start\" x=\"494.5\" y=\"-483.8\" font-family=\"Helvetica,sans-Serif\" font-size=\"14.00\" fill=\"#000000\">value = [0, 50, 50]</text>\n<text text-anchor=\"start\" x=\"496\" y=\"-468.8\" font-family=\"Helvetica,sans-Serif\" font-size=\"14.00\" fill=\"#000000\">class = versicolor</text>\n</g>\n<!-- 0&#45;&gt;2 -->\n<g id=\"edge2\" class=\"edge\">\n<title>0&#45;&gt;2</title>\n<path fill=\"none\" stroke=\"#000000\" d=\"M499.9801,-579.8796C505.8531,-571.1434 512.1073,-561.8404 518.1679,-552.8253\"/>\n<polygon fill=\"#000000\" stroke=\"#000000\" points=\"521.2259,-554.5498 523.9005,-544.2981 515.4166,-550.6444 521.2259,-554.5498\"/>\n<text text-anchor=\"middle\" x=\"528.7085\" y=\"-565.1314\" font-family=\"Helvetica,sans-Serif\" font-size=\"14.00\" fill=\"#000000\">False</text>\n</g>\n<!-- 3 -->\n<g id=\"node4\" class=\"node\">\n<title>3</title>\n<path fill=\"#39e581\" fill-opacity=\"0.898039\" stroke=\"#000000\" d=\"M506.5,-425C506.5,-425 363.5,-425 363.5,-425 357.5,-425 351.5,-419 351.5,-413 351.5,-413 351.5,-354 351.5,-354 351.5,-348 357.5,-342 363.5,-342 363.5,-342 506.5,-342 506.5,-342 512.5,-342 518.5,-348 518.5,-354 518.5,-354 518.5,-413 518.5,-413 518.5,-419 512.5,-425 506.5,-425\"/>\n<text text-anchor=\"start\" x=\"359.5\" y=\"-409.8\" font-family=\"Helvetica,sans-Serif\" font-size=\"14.00\" fill=\"#000000\">petal length (cm) ≤ 4.95</text>\n<text text-anchor=\"start\" x=\"397\" y=\"-394.8\" font-family=\"Helvetica,sans-Serif\" font-size=\"14.00\" fill=\"#000000\">gini = 0.168</text>\n<text text-anchor=\"start\" x=\"391\" y=\"-379.8\" font-family=\"Helvetica,sans-Serif\" font-size=\"14.00\" fill=\"#000000\">samples = 54</text>\n<text text-anchor=\"start\" x=\"381.5\" y=\"-364.8\" font-family=\"Helvetica,sans-Serif\" font-size=\"14.00\" fill=\"#000000\">value = [0, 49, 5]</text>\n<text text-anchor=\"start\" x=\"379\" y=\"-349.8\" font-family=\"Helvetica,sans-Serif\" font-size=\"14.00\" fill=\"#000000\">class = versicolor</text>\n</g>\n<!-- 2&#45;&gt;3 -->\n<g id=\"edge3\" class=\"edge\">\n<title>2&#45;&gt;3</title>\n<path fill=\"none\" stroke=\"#000000\" d=\"M511.0791,-460.8796C502.047,-451.6931 492.3987,-441.8798 483.1112,-432.4336\"/>\n<polygon fill=\"#000000\" stroke=\"#000000\" points=\"485.6023,-429.975 476.0956,-425.2981 480.6107,-434.8827 485.6023,-429.975\"/>\n</g>\n<!-- 12 -->\n<g id=\"node13\" class=\"node\">\n<title>12</title>\n<path fill=\"#8139e5\" fill-opacity=\"0.976471\" stroke=\"#000000\" d=\"M741.5,-425C741.5,-425 598.5,-425 598.5,-425 592.5,-425 586.5,-419 586.5,-413 586.5,-413 586.5,-354 586.5,-354 586.5,-348 592.5,-342 598.5,-342 598.5,-342 741.5,-342 741.5,-342 747.5,-342 753.5,-348 753.5,-354 753.5,-354 753.5,-413 753.5,-413 753.5,-419 747.5,-425 741.5,-425\"/>\n<text text-anchor=\"start\" x=\"594.5\" y=\"-409.8\" font-family=\"Helvetica,sans-Serif\" font-size=\"14.00\" fill=\"#000000\">petal length (cm) ≤ 4.85</text>\n<text text-anchor=\"start\" x=\"632\" y=\"-394.8\" font-family=\"Helvetica,sans-Serif\" font-size=\"14.00\" fill=\"#000000\">gini = 0.043</text>\n<text text-anchor=\"start\" x=\"626\" y=\"-379.8\" font-family=\"Helvetica,sans-Serif\" font-size=\"14.00\" fill=\"#000000\">samples = 46</text>\n<text text-anchor=\"start\" x=\"616.5\" y=\"-364.8\" font-family=\"Helvetica,sans-Serif\" font-size=\"14.00\" fill=\"#000000\">value = [0, 1, 45]</text>\n<text text-anchor=\"start\" x=\"618.5\" y=\"-349.8\" font-family=\"Helvetica,sans-Serif\" font-size=\"14.00\" fill=\"#000000\">class = virginica</text>\n</g>\n<!-- 2&#45;&gt;12 -->\n<g id=\"edge12\" class=\"edge\">\n<title>2&#45;&gt;12</title>\n<path fill=\"none\" stroke=\"#000000\" d=\"M593.2707,-460.8796C602.3799,-451.6931 612.1108,-441.8798 621.4776,-432.4336\"/>\n<polygon fill=\"#000000\" stroke=\"#000000\" points=\"623.9973,-434.8634 628.5532,-425.2981 619.0267,-429.9345 623.9973,-434.8634\"/>\n</g>\n<!-- 4 -->\n<g id=\"node5\" class=\"node\">\n<title>4</title>\n<path fill=\"#39e581\" fill-opacity=\"0.980392\" stroke=\"#000000\" d=\"M274.5,-306C274.5,-306 137.5,-306 137.5,-306 131.5,-306 125.5,-300 125.5,-294 125.5,-294 125.5,-235 125.5,-235 125.5,-229 131.5,-223 137.5,-223 137.5,-223 274.5,-223 274.5,-223 280.5,-223 286.5,-229 286.5,-235 286.5,-235 286.5,-294 286.5,-294 286.5,-300 280.5,-306 274.5,-306\"/>\n<text text-anchor=\"start\" x=\"133.5\" y=\"-290.8\" font-family=\"Helvetica,sans-Serif\" font-size=\"14.00\" fill=\"#000000\">petal width (cm) ≤ 1.65</text>\n<text text-anchor=\"start\" x=\"168\" y=\"-275.8\" font-family=\"Helvetica,sans-Serif\" font-size=\"14.00\" fill=\"#000000\">gini = 0.041</text>\n<text text-anchor=\"start\" x=\"162\" y=\"-260.8\" font-family=\"Helvetica,sans-Serif\" font-size=\"14.00\" fill=\"#000000\">samples = 48</text>\n<text text-anchor=\"start\" x=\"152.5\" y=\"-245.8\" font-family=\"Helvetica,sans-Serif\" font-size=\"14.00\" fill=\"#000000\">value = [0, 47, 1]</text>\n<text text-anchor=\"start\" x=\"150\" y=\"-230.8\" font-family=\"Helvetica,sans-Serif\" font-size=\"14.00\" fill=\"#000000\">class = versicolor</text>\n</g>\n<!-- 3&#45;&gt;4 -->\n<g id=\"edge4\" class=\"edge\">\n<title>3&#45;&gt;4</title>\n<path fill=\"none\" stroke=\"#000000\" d=\"M354.9069,-341.8796C335.5571,-331.8244 314.7621,-321.0183 295.0301,-310.7645\"/>\n<polygon fill=\"#000000\" stroke=\"#000000\" points=\"296.5352,-307.6024 286.0479,-306.0969 293.3074,-313.8138 296.5352,-307.6024\"/>\n</g>\n<!-- 7 -->\n<g id=\"node8\" class=\"node\">\n<title>7</title>\n<path fill=\"#8139e5\" fill-opacity=\"0.498039\" stroke=\"#000000\" d=\"M503.5,-306C503.5,-306 366.5,-306 366.5,-306 360.5,-306 354.5,-300 354.5,-294 354.5,-294 354.5,-235 354.5,-235 354.5,-229 360.5,-223 366.5,-223 366.5,-223 503.5,-223 503.5,-223 509.5,-223 515.5,-229 515.5,-235 515.5,-235 515.5,-294 515.5,-294 515.5,-300 509.5,-306 503.5,-306\"/>\n<text text-anchor=\"start\" x=\"362.5\" y=\"-290.8\" font-family=\"Helvetica,sans-Serif\" font-size=\"14.00\" fill=\"#000000\">petal width (cm) ≤ 1.55</text>\n<text text-anchor=\"start\" x=\"397\" y=\"-275.8\" font-family=\"Helvetica,sans-Serif\" font-size=\"14.00\" fill=\"#000000\">gini = 0.444</text>\n<text text-anchor=\"start\" x=\"395.5\" y=\"-260.8\" font-family=\"Helvetica,sans-Serif\" font-size=\"14.00\" fill=\"#000000\">samples = 6</text>\n<text text-anchor=\"start\" x=\"385.5\" y=\"-245.8\" font-family=\"Helvetica,sans-Serif\" font-size=\"14.00\" fill=\"#000000\">value = [0, 2, 4]</text>\n<text text-anchor=\"start\" x=\"383.5\" y=\"-230.8\" font-family=\"Helvetica,sans-Serif\" font-size=\"14.00\" fill=\"#000000\">class = virginica</text>\n</g>\n<!-- 3&#45;&gt;7 -->\n<g id=\"edge7\" class=\"edge\">\n<title>3&#45;&gt;7</title>\n<path fill=\"none\" stroke=\"#000000\" d=\"M435,-341.8796C435,-333.6838 435,-324.9891 435,-316.5013\"/>\n<polygon fill=\"#000000\" stroke=\"#000000\" points=\"438.5001,-316.298 435,-306.2981 431.5001,-316.2981 438.5001,-316.298\"/>\n</g>\n<!-- 5 -->\n<g id=\"node6\" class=\"node\">\n<title>5</title>\n<path fill=\"#39e581\" stroke=\"#000000\" d=\"M116,-179.5C116,-179.5 12,-179.5 12,-179.5 6,-179.5 0,-173.5 0,-167.5 0,-167.5 0,-123.5 0,-123.5 0,-117.5 6,-111.5 12,-111.5 12,-111.5 116,-111.5 116,-111.5 122,-111.5 128,-117.5 128,-123.5 128,-123.5 128,-167.5 128,-167.5 128,-173.5 122,-179.5 116,-179.5\"/>\n<text text-anchor=\"start\" x=\"34.5\" y=\"-164.3\" font-family=\"Helvetica,sans-Serif\" font-size=\"14.00\" fill=\"#000000\">gini = 0.0</text>\n<text text-anchor=\"start\" x=\"20\" y=\"-149.3\" font-family=\"Helvetica,sans-Serif\" font-size=\"14.00\" fill=\"#000000\">samples = 47</text>\n<text text-anchor=\"start\" x=\"10.5\" y=\"-134.3\" font-family=\"Helvetica,sans-Serif\" font-size=\"14.00\" fill=\"#000000\">value = [0, 47, 0]</text>\n<text text-anchor=\"start\" x=\"8\" y=\"-119.3\" font-family=\"Helvetica,sans-Serif\" font-size=\"14.00\" fill=\"#000000\">class = versicolor</text>\n</g>\n<!-- 4&#45;&gt;5 -->\n<g id=\"edge5\" class=\"edge\">\n<title>4&#45;&gt;5</title>\n<path fill=\"none\" stroke=\"#000000\" d=\"M156.3353,-222.8796C142.1642,-211.0038 126.743,-198.0804 112.6342,-186.2568\"/>\n<polygon fill=\"#000000\" stroke=\"#000000\" points=\"114.8598,-183.5554 104.9472,-179.8149 110.3637,-188.9206 114.8598,-183.5554\"/>\n</g>\n<!-- 6 -->\n<g id=\"node7\" class=\"node\">\n<title>6</title>\n<path fill=\"#8139e5\" stroke=\"#000000\" d=\"M253.5,-179.5C253.5,-179.5 158.5,-179.5 158.5,-179.5 152.5,-179.5 146.5,-173.5 146.5,-167.5 146.5,-167.5 146.5,-123.5 146.5,-123.5 146.5,-117.5 152.5,-111.5 158.5,-111.5 158.5,-111.5 253.5,-111.5 253.5,-111.5 259.5,-111.5 265.5,-117.5 265.5,-123.5 265.5,-123.5 265.5,-167.5 265.5,-167.5 265.5,-173.5 259.5,-179.5 253.5,-179.5\"/>\n<text text-anchor=\"start\" x=\"176.5\" y=\"-164.3\" font-family=\"Helvetica,sans-Serif\" font-size=\"14.00\" fill=\"#000000\">gini = 0.0</text>\n<text text-anchor=\"start\" x=\"166.5\" y=\"-149.3\" font-family=\"Helvetica,sans-Serif\" font-size=\"14.00\" fill=\"#000000\">samples = 1</text>\n<text text-anchor=\"start\" x=\"156.5\" y=\"-134.3\" font-family=\"Helvetica,sans-Serif\" font-size=\"14.00\" fill=\"#000000\">value = [0, 0, 1]</text>\n<text text-anchor=\"start\" x=\"154.5\" y=\"-119.3\" font-family=\"Helvetica,sans-Serif\" font-size=\"14.00\" fill=\"#000000\">class = virginica</text>\n</g>\n<!-- 4&#45;&gt;6 -->\n<g id=\"edge6\" class=\"edge\">\n<title>4&#45;&gt;6</title>\n<path fill=\"none\" stroke=\"#000000\" d=\"M206,-222.8796C206,-212.2134 206,-200.7021 206,-189.9015\"/>\n<polygon fill=\"#000000\" stroke=\"#000000\" points=\"209.5001,-189.8149 206,-179.8149 202.5001,-189.815 209.5001,-189.8149\"/>\n</g>\n<!-- 8 -->\n<g id=\"node9\" class=\"node\">\n<title>8</title>\n<path fill=\"#8139e5\" stroke=\"#000000\" d=\"M390.5,-179.5C390.5,-179.5 295.5,-179.5 295.5,-179.5 289.5,-179.5 283.5,-173.5 283.5,-167.5 283.5,-167.5 283.5,-123.5 283.5,-123.5 283.5,-117.5 289.5,-111.5 295.5,-111.5 295.5,-111.5 390.5,-111.5 390.5,-111.5 396.5,-111.5 402.5,-117.5 402.5,-123.5 402.5,-123.5 402.5,-167.5 402.5,-167.5 402.5,-173.5 396.5,-179.5 390.5,-179.5\"/>\n<text text-anchor=\"start\" x=\"313.5\" y=\"-164.3\" font-family=\"Helvetica,sans-Serif\" font-size=\"14.00\" fill=\"#000000\">gini = 0.0</text>\n<text text-anchor=\"start\" x=\"303.5\" y=\"-149.3\" font-family=\"Helvetica,sans-Serif\" font-size=\"14.00\" fill=\"#000000\">samples = 3</text>\n<text text-anchor=\"start\" x=\"293.5\" y=\"-134.3\" font-family=\"Helvetica,sans-Serif\" font-size=\"14.00\" fill=\"#000000\">value = [0, 0, 3]</text>\n<text text-anchor=\"start\" x=\"291.5\" y=\"-119.3\" font-family=\"Helvetica,sans-Serif\" font-size=\"14.00\" fill=\"#000000\">class = virginica</text>\n</g>\n<!-- 7&#45;&gt;8 -->\n<g id=\"edge8\" class=\"edge\">\n<title>7&#45;&gt;8</title>\n<path fill=\"none\" stroke=\"#000000\" d=\"M402.8229,-222.8796C394.0667,-211.5536 384.5738,-199.2748 375.7844,-187.9058\"/>\n<polygon fill=\"#000000\" stroke=\"#000000\" points=\"378.4146,-185.5856 369.5292,-179.8149 372.8766,-189.8671 378.4146,-185.5856\"/>\n</g>\n<!-- 9 -->\n<g id=\"node10\" class=\"node\">\n<title>9</title>\n<path fill=\"#39e581\" fill-opacity=\"0.498039\" stroke=\"#000000\" d=\"M575.5,-187C575.5,-187 432.5,-187 432.5,-187 426.5,-187 420.5,-181 420.5,-175 420.5,-175 420.5,-116 420.5,-116 420.5,-110 426.5,-104 432.5,-104 432.5,-104 575.5,-104 575.5,-104 581.5,-104 587.5,-110 587.5,-116 587.5,-116 587.5,-175 587.5,-175 587.5,-181 581.5,-187 575.5,-187\"/>\n<text text-anchor=\"start\" x=\"428.5\" y=\"-171.8\" font-family=\"Helvetica,sans-Serif\" font-size=\"14.00\" fill=\"#000000\">petal length (cm) ≤ 5.45</text>\n<text text-anchor=\"start\" x=\"466\" y=\"-156.8\" font-family=\"Helvetica,sans-Serif\" font-size=\"14.00\" fill=\"#000000\">gini = 0.444</text>\n<text text-anchor=\"start\" x=\"464.5\" y=\"-141.8\" font-family=\"Helvetica,sans-Serif\" font-size=\"14.00\" fill=\"#000000\">samples = 3</text>\n<text text-anchor=\"start\" x=\"454.5\" y=\"-126.8\" font-family=\"Helvetica,sans-Serif\" font-size=\"14.00\" fill=\"#000000\">value = [0, 2, 1]</text>\n<text text-anchor=\"start\" x=\"448\" y=\"-111.8\" font-family=\"Helvetica,sans-Serif\" font-size=\"14.00\" fill=\"#000000\">class = versicolor</text>\n</g>\n<!-- 7&#45;&gt;9 -->\n<g id=\"edge9\" class=\"edge\">\n<title>7&#45;&gt;9</title>\n<path fill=\"none\" stroke=\"#000000\" d=\"M459.1329,-222.8796C464.1461,-214.2335 469.4813,-205.0322 474.6581,-196.1042\"/>\n<polygon fill=\"#000000\" stroke=\"#000000\" points=\"477.7758,-197.7047 479.7641,-187.2981 471.7202,-194.1934 477.7758,-197.7047\"/>\n</g>\n<!-- 10 -->\n<g id=\"node11\" class=\"node\">\n<title>10</title>\n<path fill=\"#39e581\" stroke=\"#000000\" d=\"M485,-68C485,-68 381,-68 381,-68 375,-68 369,-62 369,-56 369,-56 369,-12 369,-12 369,-6 375,0 381,0 381,0 485,0 485,0 491,0 497,-6 497,-12 497,-12 497,-56 497,-56 497,-62 491,-68 485,-68\"/>\n<text text-anchor=\"start\" x=\"403.5\" y=\"-52.8\" font-family=\"Helvetica,sans-Serif\" font-size=\"14.00\" fill=\"#000000\">gini = 0.0</text>\n<text text-anchor=\"start\" x=\"393.5\" y=\"-37.8\" font-family=\"Helvetica,sans-Serif\" font-size=\"14.00\" fill=\"#000000\">samples = 2</text>\n<text text-anchor=\"start\" x=\"383.5\" y=\"-22.8\" font-family=\"Helvetica,sans-Serif\" font-size=\"14.00\" fill=\"#000000\">value = [0, 2, 0]</text>\n<text text-anchor=\"start\" x=\"377\" y=\"-7.8\" font-family=\"Helvetica,sans-Serif\" font-size=\"14.00\" fill=\"#000000\">class = versicolor</text>\n</g>\n<!-- 9&#45;&gt;10 -->\n<g id=\"edge10\" class=\"edge\">\n<title>9&#45;&gt;10</title>\n<path fill=\"none\" stroke=\"#000000\" d=\"M477.5622,-103.9815C471.944,-95.1585 466.0012,-85.8258 460.3497,-76.9506\"/>\n<polygon fill=\"#000000\" stroke=\"#000000\" points=\"463.1416,-74.8188 454.8181,-68.2637 457.2371,-78.5787 463.1416,-74.8188\"/>\n</g>\n<!-- 11 -->\n<g id=\"node12\" class=\"node\">\n<title>11</title>\n<path fill=\"#8139e5\" stroke=\"#000000\" d=\"M622.5,-68C622.5,-68 527.5,-68 527.5,-68 521.5,-68 515.5,-62 515.5,-56 515.5,-56 515.5,-12 515.5,-12 515.5,-6 521.5,0 527.5,0 527.5,0 622.5,0 622.5,0 628.5,0 634.5,-6 634.5,-12 634.5,-12 634.5,-56 634.5,-56 634.5,-62 628.5,-68 622.5,-68\"/>\n<text text-anchor=\"start\" x=\"545.5\" y=\"-52.8\" font-family=\"Helvetica,sans-Serif\" font-size=\"14.00\" fill=\"#000000\">gini = 0.0</text>\n<text text-anchor=\"start\" x=\"535.5\" y=\"-37.8\" font-family=\"Helvetica,sans-Serif\" font-size=\"14.00\" fill=\"#000000\">samples = 1</text>\n<text text-anchor=\"start\" x=\"525.5\" y=\"-22.8\" font-family=\"Helvetica,sans-Serif\" font-size=\"14.00\" fill=\"#000000\">value = [0, 0, 1]</text>\n<text text-anchor=\"start\" x=\"523.5\" y=\"-7.8\" font-family=\"Helvetica,sans-Serif\" font-size=\"14.00\" fill=\"#000000\">class = virginica</text>\n</g>\n<!-- 9&#45;&gt;11 -->\n<g id=\"edge11\" class=\"edge\">\n<title>9&#45;&gt;11</title>\n<path fill=\"none\" stroke=\"#000000\" d=\"M530.4378,-103.9815C536.056,-95.1585 541.9988,-85.8258 547.6503,-76.9506\"/>\n<polygon fill=\"#000000\" stroke=\"#000000\" points=\"550.7629,-78.5787 553.1819,-68.2637 544.8584,-74.8188 550.7629,-78.5787\"/>\n</g>\n<!-- 13 -->\n<g id=\"node14\" class=\"node\">\n<title>13</title>\n<path fill=\"#8139e5\" fill-opacity=\"0.498039\" stroke=\"#000000\" d=\"M743.5,-306C743.5,-306 596.5,-306 596.5,-306 590.5,-306 584.5,-300 584.5,-294 584.5,-294 584.5,-235 584.5,-235 584.5,-229 590.5,-223 596.5,-223 596.5,-223 743.5,-223 743.5,-223 749.5,-223 755.5,-229 755.5,-235 755.5,-235 755.5,-294 755.5,-294 755.5,-300 749.5,-306 743.5,-306\"/>\n<text text-anchor=\"start\" x=\"592.5\" y=\"-290.8\" font-family=\"Helvetica,sans-Serif\" font-size=\"14.00\" fill=\"#000000\">sepal length (cm) ≤ 5.95</text>\n<text text-anchor=\"start\" x=\"632\" y=\"-275.8\" font-family=\"Helvetica,sans-Serif\" font-size=\"14.00\" fill=\"#000000\">gini = 0.444</text>\n<text text-anchor=\"start\" x=\"630.5\" y=\"-260.8\" font-family=\"Helvetica,sans-Serif\" font-size=\"14.00\" fill=\"#000000\">samples = 3</text>\n<text text-anchor=\"start\" x=\"620.5\" y=\"-245.8\" font-family=\"Helvetica,sans-Serif\" font-size=\"14.00\" fill=\"#000000\">value = [0, 1, 2]</text>\n<text text-anchor=\"start\" x=\"618.5\" y=\"-230.8\" font-family=\"Helvetica,sans-Serif\" font-size=\"14.00\" fill=\"#000000\">class = virginica</text>\n</g>\n<!-- 12&#45;&gt;13 -->\n<g id=\"edge13\" class=\"edge\">\n<title>12&#45;&gt;13</title>\n<path fill=\"none\" stroke=\"#000000\" d=\"M670,-341.8796C670,-333.6838 670,-324.9891 670,-316.5013\"/>\n<polygon fill=\"#000000\" stroke=\"#000000\" points=\"673.5001,-316.298 670,-306.2981 666.5001,-316.2981 673.5001,-316.298\"/>\n</g>\n<!-- 16 -->\n<g id=\"node17\" class=\"node\">\n<title>16</title>\n<path fill=\"#8139e5\" stroke=\"#000000\" d=\"M884.5,-298.5C884.5,-298.5 785.5,-298.5 785.5,-298.5 779.5,-298.5 773.5,-292.5 773.5,-286.5 773.5,-286.5 773.5,-242.5 773.5,-242.5 773.5,-236.5 779.5,-230.5 785.5,-230.5 785.5,-230.5 884.5,-230.5 884.5,-230.5 890.5,-230.5 896.5,-236.5 896.5,-242.5 896.5,-242.5 896.5,-286.5 896.5,-286.5 896.5,-292.5 890.5,-298.5 884.5,-298.5\"/>\n<text text-anchor=\"start\" x=\"805.5\" y=\"-283.3\" font-family=\"Helvetica,sans-Serif\" font-size=\"14.00\" fill=\"#000000\">gini = 0.0</text>\n<text text-anchor=\"start\" x=\"791\" y=\"-268.3\" font-family=\"Helvetica,sans-Serif\" font-size=\"14.00\" fill=\"#000000\">samples = 43</text>\n<text text-anchor=\"start\" x=\"781.5\" y=\"-253.3\" font-family=\"Helvetica,sans-Serif\" font-size=\"14.00\" fill=\"#000000\">value = [0, 0, 43]</text>\n<text text-anchor=\"start\" x=\"783.5\" y=\"-238.3\" font-family=\"Helvetica,sans-Serif\" font-size=\"14.00\" fill=\"#000000\">class = virginica</text>\n</g>\n<!-- 12&#45;&gt;16 -->\n<g id=\"edge16\" class=\"edge\">\n<title>12&#45;&gt;16</title>\n<path fill=\"none\" stroke=\"#000000\" d=\"M727.709,-341.8796C744.407,-329.8368 762.5987,-316.7167 779.1793,-304.7586\"/>\n<polygon fill=\"#000000\" stroke=\"#000000\" points=\"781.6232,-307.3113 787.6865,-298.623 777.5285,-301.6339 781.6232,-307.3113\"/>\n</g>\n<!-- 14 -->\n<g id=\"node15\" class=\"node\">\n<title>14</title>\n<path fill=\"#39e581\" stroke=\"#000000\" d=\"M722,-179.5C722,-179.5 618,-179.5 618,-179.5 612,-179.5 606,-173.5 606,-167.5 606,-167.5 606,-123.5 606,-123.5 606,-117.5 612,-111.5 618,-111.5 618,-111.5 722,-111.5 722,-111.5 728,-111.5 734,-117.5 734,-123.5 734,-123.5 734,-167.5 734,-167.5 734,-173.5 728,-179.5 722,-179.5\"/>\n<text text-anchor=\"start\" x=\"640.5\" y=\"-164.3\" font-family=\"Helvetica,sans-Serif\" font-size=\"14.00\" fill=\"#000000\">gini = 0.0</text>\n<text text-anchor=\"start\" x=\"630.5\" y=\"-149.3\" font-family=\"Helvetica,sans-Serif\" font-size=\"14.00\" fill=\"#000000\">samples = 1</text>\n<text text-anchor=\"start\" x=\"620.5\" y=\"-134.3\" font-family=\"Helvetica,sans-Serif\" font-size=\"14.00\" fill=\"#000000\">value = [0, 1, 0]</text>\n<text text-anchor=\"start\" x=\"614\" y=\"-119.3\" font-family=\"Helvetica,sans-Serif\" font-size=\"14.00\" fill=\"#000000\">class = versicolor</text>\n</g>\n<!-- 13&#45;&gt;14 -->\n<g id=\"edge14\" class=\"edge\">\n<title>13&#45;&gt;14</title>\n<path fill=\"none\" stroke=\"#000000\" d=\"M670,-222.8796C670,-212.2134 670,-200.7021 670,-189.9015\"/>\n<polygon fill=\"#000000\" stroke=\"#000000\" points=\"673.5001,-189.8149 670,-179.8149 666.5001,-189.815 673.5001,-189.8149\"/>\n</g>\n<!-- 15 -->\n<g id=\"node16\" class=\"node\">\n<title>15</title>\n<path fill=\"#8139e5\" stroke=\"#000000\" d=\"M859.5,-179.5C859.5,-179.5 764.5,-179.5 764.5,-179.5 758.5,-179.5 752.5,-173.5 752.5,-167.5 752.5,-167.5 752.5,-123.5 752.5,-123.5 752.5,-117.5 758.5,-111.5 764.5,-111.5 764.5,-111.5 859.5,-111.5 859.5,-111.5 865.5,-111.5 871.5,-117.5 871.5,-123.5 871.5,-123.5 871.5,-167.5 871.5,-167.5 871.5,-173.5 865.5,-179.5 859.5,-179.5\"/>\n<text text-anchor=\"start\" x=\"782.5\" y=\"-164.3\" font-family=\"Helvetica,sans-Serif\" font-size=\"14.00\" fill=\"#000000\">gini = 0.0</text>\n<text text-anchor=\"start\" x=\"772.5\" y=\"-149.3\" font-family=\"Helvetica,sans-Serif\" font-size=\"14.00\" fill=\"#000000\">samples = 2</text>\n<text text-anchor=\"start\" x=\"762.5\" y=\"-134.3\" font-family=\"Helvetica,sans-Serif\" font-size=\"14.00\" fill=\"#000000\">value = [0, 0, 2]</text>\n<text text-anchor=\"start\" x=\"760.5\" y=\"-119.3\" font-family=\"Helvetica,sans-Serif\" font-size=\"14.00\" fill=\"#000000\">class = virginica</text>\n</g>\n<!-- 13&#45;&gt;15 -->\n<g id=\"edge15\" class=\"edge\">\n<title>13&#45;&gt;15</title>\n<path fill=\"none\" stroke=\"#000000\" d=\"M719.6647,-222.8796C733.8358,-211.0038 749.257,-198.0804 763.3658,-186.2568\"/>\n<polygon fill=\"#000000\" stroke=\"#000000\" points=\"765.6363,-188.9206 771.0528,-179.8149 761.1402,-183.5554 765.6363,-188.9206\"/>\n</g>\n</g>\n</svg>\n"
          },
          "metadata": {
            "tags": []
          },
          "execution_count": 27
        }
      ]
    },
    {
      "metadata": {
        "id": "MDl3HGHoKbup"
      },
      "cell_type": "markdown",
      "source": [
        "## Two dimensional Visualization of Classification"
      ]
    },
    {
      "metadata": {
        "id": "eaXMrSo8xInY",
        "outputId": "7f86ec39-76a5-4ea1-f4d0-3aff67c3b306",
        "colab": {
          "base_uri": "https://localhost:8080/",
          "height": 288
        }
      },
      "cell_type": "code",
      "source": [
        "import numpy as np\n",
        "import matplotlib.pyplot as plt\n",
        "\n",
        "from sklearn.datasets import load_iris\n",
        "from sklearn.tree import DecisionTreeClassifier\n",
        "\n",
        "# Parameters\n",
        "n_classes = 3\n",
        "plot_colors = \"ryb\"\n",
        "plot_step = 0.02\n",
        "\n",
        "# Load data\n",
        "iris = load_iris()\n",
        "\n",
        "for pairidx, pair in enumerate([[0, 1], [0, 2], [0, 3],\n",
        "                                [1, 2], [1, 3], [2, 3]]):\n",
        "    # We only take the two corresponding features\n",
        "    X = iris.data[:, pair]\n",
        "    y = iris.target\n",
        "\n",
        "    # Train\n",
        "    clf = DecisionTreeClassifier().fit(X, y)\n",
        "\n",
        "    # Plot the decision boundary\n",
        "    plt.subplot(2, 3, pairidx + 1)\n",
        "\n",
        "    x_min, x_max = X[:, 0].min() - 1, X[:, 0].max() + 1\n",
        "    y_min, y_max = X[:, 1].min() - 1, X[:, 1].max() + 1\n",
        "    xx, yy = np.meshgrid(np.arange(x_min, x_max, plot_step),\n",
        "                         np.arange(y_min, y_max, plot_step))\n",
        "    plt.tight_layout(h_pad=0.5, w_pad=0.5, pad=2.5)\n",
        "\n",
        "    Z = clf.predict(np.c_[xx.ravel(), yy.ravel()])\n",
        "    Z = Z.reshape(xx.shape)\n",
        "    cs = plt.contourf(xx, yy, Z, cmap=plt.cm.RdYlBu)\n",
        "\n",
        "    plt.xlabel(iris.feature_names[pair[0]])\n",
        "    plt.ylabel(iris.feature_names[pair[1]])\n",
        "\n",
        "    # Plot the training points\n",
        "    for i, color in zip(range(n_classes), plot_colors):\n",
        "        idx = np.where(y == i)\n",
        "        plt.scatter(X[idx, 0], X[idx, 1], c=color, label=iris.target_names[i],\n",
        "                    cmap=plt.cm.RdYlBu, edgecolor='black', s=15)\n",
        "\n",
        "plt.suptitle(\"Decision surface of a decision tree using paired features\")\n",
        "plt.legend(loc='lower right', borderpad=0, handletextpad=0)\n",
        "plt.axis(\"tight\")\n",
        "plt.show()"
      ],
      "execution_count": null,
      "outputs": [
        {
          "output_type": "display_data",
          "data": {
            "image/png": "[encoded data removed]",
            "text/plain": [
              "<Figure size 432x288 with 6 Axes>"
            ]
          },
          "metadata": {
            "tags": []
          }
        }
      ]
    }
  ]
}