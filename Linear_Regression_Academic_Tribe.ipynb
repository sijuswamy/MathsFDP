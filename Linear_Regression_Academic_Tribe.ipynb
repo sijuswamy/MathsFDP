{
  "cells": [
    {
      "cell_type": "markdown",
      "metadata": {
        "id": "view-in-github",
        "colab_type": "text"
      },
      "source": [
        "<a href=\"https://colab.research.google.com/github/sijuswamy/MarianFDP/blob/main/Linear_Regression_Academic_Tribe.ipynb\" target=\"_parent\"><img src=\"https://colab.research.google.com/assets/colab-badge.svg\" alt=\"Open In Colab\"/></a>"
      ]
    },
    {
      "cell_type": "markdown",
      "metadata": {
        "id": "S8QNcPduPuY6"
      },
      "source": [
        "\n",
        "# Linear Regression Models in Machine Learning (Academic Tribe)"
      ]
    },
    {
      "cell_type": "markdown",
      "metadata": {
        "id": "sZxaU29XPuZC"
      },
      "source": [
        "## Introduction \n",
        "Linear Regression is a machine learning algorithm based on supervised learning. It performs a regression task. Regression models a target prediction value based on independent variables. It is mostly used for finding out the relationship between variables and forecasting. Different regression models differ based on – the kind of relationship between dependent and independent variables, they are considering and the number of independent variables being used."
      ]
    },
    {
      "cell_type": "markdown",
      "metadata": {
        "id": "SAij5PGePuZE"
      },
      "source": [
        "## Linear Regression Job\n",
        "\n",
        "Linear regression performs the task to predict a dependent variable value ($y$) based on a given independent variable ($x$). So, this regression technique finds out a linear relationship between $x$ (input) and $y$(response). Hence, the name is Linear Regression.\n",
        " For example $X$ (input) is the work experience and $Y$ (output) is the salary of a person. The regression line is the best fit line for our SLR model."
      ]
    },
    {
      "cell_type": "markdown",
      "metadata": {
        "id": "U5T2N7ONPuZF"
      },
      "source": [
        "## Hypothesis of SLRM\n",
        "\n",
        "The proposed model is $$h_\\theta(x)=\\theta_0+\\theta_1 x$$, where $\\theta_0$ is the intercept of the line and $\\theta_1$ is the slope. In case of multiple linear regression the vector form of LR is $$h_\\theta=\\theta^TX+\\theta_0$$\n",
        "\n",
        "where $\\theta=(\\theta_1,\\theta_2\\ldots,\\theta_n)^T$\n",
        "\n",
        "The hypothesis are:\n",
        "\n",
        "> $H_0$: $\\theta_1=0$\n",
        "\n",
        "> $H_1$: $\\theta_1\\neq 0$\n",
        "\n",
        "While training the model we are given :\n",
        "\n",
        ">1.$x$: input training data (univariate – one input variable(parameter))\n",
        "\n",
        ">2.$y$: labels to data (supervised learning)\n",
        "\n",
        ">3.When training the model – it fits the best line to predict the value of y for a given value of x. The model gets the best regression fit line by finding the best $\\theta_0$ and $\\theta_1$ values.\n",
        "$\\theta_0$: intercept\n",
        "$\\theta_1$: coefficient of x"
      ]
    },
    {
      "cell_type": "markdown",
      "metadata": {
        "id": "21EUnfvUPuZH"
      },
      "source": [
        "## Moving in SLR model building\n",
        "Once we find the best $\\theta_0$ and $\\theta_1$ values, we get the best fit line. So when we are finally using our model for prediction, it will predict the value of $y$ for the input value of $x$."
      ]
    },
    {
      "cell_type": "markdown",
      "metadata": {
        "id": "r9K2Gz29PuZI"
      },
      "source": [
        "## 1. Least square error method\n",
        "\n",
        "In this method, we simply calculate the parameters $\\theta_0$ and $\\theta_1$ can be calculated using the following algebraic expressions:\n",
        "\n",
        "\\begin{align*}\n",
        "\\theta_1&=\\dfrac{\\sum\\limits_{i=1}^m\\left(x_i-\\bar{x}\\right)\\left(y_i-\\bar{y}\\right)}{\\sum\\limits_{i=1}^m\\left(x_i-\\bar{x}\\right)^2}\\\\\n",
        "\\theta_0&=\\bar{y}-\\theta_1\\bar{x}\n",
        "\\end{align*}\n",
        "\n"
      ]
    },
    {
      "cell_type": "code",
      "execution_count": null,
      "metadata": {
        "id": "VFX1DgM8PuZJ",
        "outputId": "e3d41838-b052-485b-b237-a0d5851bf366"
      },
      "outputs": [
        {
          "name": "stdout",
          "output_type": "stream",
          "text": [
            "slope :4\n",
            "Intercept :0\n"
          ]
        }
      ],
      "source": [
        "\n",
        "import numpy as np\n",
        "x=np.array([1,2,3,4,5,6,7,8])\n",
        "y=4*x\n",
        "nr=np.sum((np.multiply(y-np.mean(y),x-np.mean(x))))\n",
        "dnr=np.sum((x-np.mean(x))**2)\n",
        "# print(nr)\n",
        "# print(dnr)\n",
        "theta_1=nr/dnr\n",
        "theta_0=np.mean(y)-theta_1*np.mean(x)\n",
        "print(\"slope :%d\"%theta_1)\n",
        "print(\"Intercept :%d\"%theta_0)"
      ]
    },
    {
      "cell_type": "markdown",
      "metadata": {
        "id": "Qr2SLq9gPuZO"
      },
      "source": [
        "## Direct method in statistics"
      ]
    },
    {
      "cell_type": "code",
      "execution_count": null,
      "metadata": {
        "id": "vgZVY-fvPuZP",
        "outputId": "989ae51b-f2c6-43aa-d968-94639b1714d7"
      },
      "outputs": [
        {
          "name": "stderr",
          "output_type": "stream",
          "text": [
            "C:\\ProgramData\\Anaconda3n\\lib\\site-packages\\statsmodels\\compat\\pandas.py:56: FutureWarning: The pandas.core.datetools module is deprecated and will be removed in a future version. Please use the pandas.tseries module instead.\n",
            "  from pandas.core import datetools\n",
            "C:\\ProgramData\\Anaconda3n\\lib\\site-packages\\scipy\\stats\\stats.py:1390: UserWarning: kurtosistest only valid for n>=20 ... continuing anyway, n=8\n",
            "  \"anyway, n=%i\" % int(n))\n"
          ]
        },
        {
          "data": {
            "text/html": [
              "<table class=\"simpletable\">\n",
              "<caption>OLS Regression Results</caption>\n",
              "<tr>\n",
              "  <th>Dep. Variable:</th>            <td>y</td>        <th>  R-squared:         </th> <td>   1.000</td> \n",
              "</tr>\n",
              "<tr>\n",
              "  <th>Model:</th>                   <td>OLS</td>       <th>  Adj. R-squared:    </th> <td>   1.000</td> \n",
              "</tr>\n",
              "<tr>\n",
              "  <th>Method:</th>             <td>Least Squares</td>  <th>  F-statistic:       </th> <td>3.954e+32</td>\n",
              "</tr>\n",
              "<tr>\n",
              "  <th>Date:</th>             <td>Wed, 24 Aug 2022</td> <th>  Prob (F-statistic):</th> <td>2.15e-112</td>\n",
              "</tr>\n",
              "<tr>\n",
              "  <th>Time:</th>                 <td>08:13:34</td>     <th>  Log-Likelihood:    </th> <td>  257.05</td> \n",
              "</tr>\n",
              "<tr>\n",
              "  <th>No. Observations:</th>      <td>     8</td>      <th>  AIC:               </th> <td>  -512.1</td> \n",
              "</tr>\n",
              "<tr>\n",
              "  <th>Df Residuals:</th>          <td>     7</td>      <th>  BIC:               </th> <td>  -512.0</td> \n",
              "</tr>\n",
              "<tr>\n",
              "  <th>Df Model:</th>              <td>     1</td>      <th>                     </th>     <td> </td>    \n",
              "</tr>\n",
              "<tr>\n",
              "  <th>Covariance Type:</th>      <td>nonrobust</td>    <th>                     </th>     <td> </td>    \n",
              "</tr>\n",
              "</table>\n",
              "<table class=\"simpletable\">\n",
              "<tr>\n",
              "   <td></td>     <th>coef</th>     <th>std err</th>      <th>t</th>      <th>P>|t|</th>  <th>[0.025</th>    <th>0.975]</th>  \n",
              "</tr>\n",
              "<tr>\n",
              "  <th>x1</th> <td>    4.0000</td> <td> 2.01e-16</td> <td> 1.99e+16</td> <td> 0.000</td> <td>    4.000</td> <td>    4.000</td>\n",
              "</tr>\n",
              "</table>\n",
              "<table class=\"simpletable\">\n",
              "<tr>\n",
              "  <th>Omnibus:</th>       <td> 2.672</td> <th>  Durbin-Watson:     </th> <td>   0.072</td>\n",
              "</tr>\n",
              "<tr>\n",
              "  <th>Prob(Omnibus):</th> <td> 0.263</td> <th>  Jarque-Bera (JB):  </th> <td>   0.939</td>\n",
              "</tr>\n",
              "<tr>\n",
              "  <th>Skew:</th>          <td>-0.320</td> <th>  Prob(JB):          </th> <td>   0.625</td>\n",
              "</tr>\n",
              "<tr>\n",
              "  <th>Kurtosis:</th>      <td> 1.448</td> <th>  Cond. No.          </th> <td>    1.00</td>\n",
              "</tr>\n",
              "</table>"
            ],
            "text/plain": [
              "<class 'statsmodels.iolib.summary.Summary'>\n",
              "\"\"\"\n",
              "                            OLS Regression Results                            \n",
              "==============================================================================\n",
              "Dep. Variable:                      y   R-squared:                       1.000\n",
              "Model:                            OLS   Adj. R-squared:                  1.000\n",
              "Method:                 Least Squares   F-statistic:                 3.954e+32\n",
              "Date:                Wed, 24 Aug 2022   Prob (F-statistic):          2.15e-112\n",
              "Time:                        08:13:34   Log-Likelihood:                 257.05\n",
              "No. Observations:                   8   AIC:                            -512.1\n",
              "Df Residuals:                       7   BIC:                            -512.0\n",
              "Df Model:                           1                                         \n",
              "Covariance Type:            nonrobust                                         \n",
              "==============================================================================\n",
              "                 coef    std err          t      P>|t|      [0.025      0.975]\n",
              "------------------------------------------------------------------------------\n",
              "x1             4.0000   2.01e-16   1.99e+16      0.000       4.000       4.000\n",
              "==============================================================================\n",
              "Omnibus:                        2.672   Durbin-Watson:                   0.072\n",
              "Prob(Omnibus):                  0.263   Jarque-Bera (JB):                0.939\n",
              "Skew:                          -0.320   Prob(JB):                        0.625\n",
              "Kurtosis:                       1.448   Cond. No.                         1.00\n",
              "==============================================================================\n",
              "\n",
              "Warnings:\n",
              "[1] Standard Errors assume that the covariance matrix of the errors is correctly specified.\n",
              "\"\"\""
            ]
          },
          "execution_count": 2,
          "metadata": {},
          "output_type": "execute_result"
        }
      ],
      "source": [
        "import statsmodels.api as sm\n",
        "import pandas \n",
        "# Note the difference in argument order\n",
        "model = sm.OLS(y, x).fit()\n",
        "predictions = model.predict(x) # make the predictions by the model\n",
        "\n",
        "# Print out the statistics\n",
        "model.summary()"
      ]
    },
    {
      "cell_type": "markdown",
      "metadata": {
        "id": "w3gz0WM0PuZR"
      },
      "source": [
        "Ordinary Least Square method looks simple and computation is easy. But, this OLS method will only work for a univariate dataset which is single dependent variable and single independent variable. Multi-variate dataset contains a single dependent variable and multiple independent variable sets, forced us to use a machine learning algorithm called “Gradient Descent”."
      ]
    },
    {
      "cell_type": "markdown",
      "metadata": {
        "id": "jeS09bTfPuZU"
      },
      "source": [
        "## Optimizing Regression line- Gradient descent method\n",
        "\n",
        "**Updating $\\theta_0$ and $\\theta_1$ values to get the best fit line**.\n",
        "\n",
        " While learning linear regression ML course, two functions are introduced:\n",
        "\n",
        "1. the cost function\n",
        "2. gradient descent\n",
        "\n",
        "**What is a Cost Function?**\n",
        "\n",
        "In the case of gradient descent, the objective is to find a line of best fit for some given inputs, or X values, and any number of Y values, or outputs. A cost function is defined as:\n",
        "\n",
        ">…a function that maps an event or values of one or more variables onto a real number intuitively representing some “cost” associated with the event.\n",
        "from Wikipedia\n",
        "\n",
        "In this situation, the event we are finding the cost of is the difference between estimated values, or the hypothesis and the real values — the actual data we are trying to fit a line to.\n",
        "\n",
        "By achieving the best-fit regression line, the model aims to predict y value such that the error difference between predicted value and true value is minimum. So, it is very important to update the $\\theta_0$ and $\\theta_1$ values, to reach the best value that minimize the error between predicted y value (pred) and true y value (y).\n",
        "\n",
        "The cost function in the case of SLR is the $MSE$ in prediction. Formally it can be defined as:\n",
        "\n",
        "$$ J(\\theta_0,\\theta_1)=\\frac{1}{2m}\\sum\\limits_{i=1}^m\\left(h_\\theta(x^i)-\\hat{y}^i\\right)^2$$\n",
        "\n",
        "Using Gradient descent algorithm , we will figure out a minimal cost function by applying various parameters for $\\theta_0$ and $\\theta_1$ and see the slope intercept until it reaches convergence.\n",
        "\n",
        ">In a real world example, it is similar to find out a best direction to take a step downhill.\n",
        "\n",
        "We take a step towards the direction to get down. From the each step, you look out the direction again to get down faster and downhill quickly. The similar approach is using in this algorithm to minimise cost function.\n"
      ]
    },
    {
      "cell_type": "markdown",
      "metadata": {
        "id": "ePUVsYDsPuZW"
      },
      "source": [
        "## Gradient Descent for Linear Regression\n",
        "\n",
        "The gradient descent for the SLR cost function can be found using Classical calculus method. Since the cost function contains the parameters $\\theta_0$ and $\\theta_1$, the partial derivative curresponding to these parameters together defines the gradient. Mathematically\n",
        "\n",
        "\\begin{align*}\n",
        "\\dfrac{\\partial}{\\partial \\theta_0}\\left(J(\\theta_0,\\theta_1)\\right)&=\\dfrac{\\partial}{\\partial \\theta_0}\\left(\\frac{1}{2m}\\sum\\limits_{i=1}^m\\left(h_\\theta(x^i)-\\hat{y}^i\\right)^2\\right)\\\\\n",
        "\\dfrac{\\partial}{\\partial \\theta_1}\\left(J(\\theta_0,\\theta_1)\\right)&=\\dfrac{\\partial}{\\partial \\theta_1}\\left(\\frac{1}{2m}\\sum\\limits_{i=1}^m\\left(h_\\theta(x^i)-\\hat{y}^i\\right)^2\\right)\n",
        "\\end{align*}"
      ]
    },
    {
      "cell_type": "markdown",
      "metadata": {
        "id": "0xijmmosPuZW"
      },
      "source": [
        ">Why do we use partial derivative in the equation? Partial derivatives represents the rate of change of the functions as the variable change. In our case we change values for theta 0 and theta 1 and identifies the rate of change. "
      ]
    },
    {
      "cell_type": "markdown",
      "metadata": {
        "id": "udHMk0zNPuZX"
      },
      "source": [
        "To apply rate of change values for theta 0 and theta 1, the below are the equations for theta 0 and theta 1 to apply it on each epoch.\n",
        "\n",
        "\\begin{align*}\n",
        "\\theta_0'&=\\frac{1}{m}\\sum\\limits_{i=1}^m\\left(h_\\theta(x^i)-\\hat{y}^i\\right)\\\\\n",
        "\\theta_1'&=\\frac{1}{m}\\sum\\limits_{i=1}^m\\left(h_\\theta(x^i)-\\hat{y}^i\\right)x^i\n",
        "\\end{align*}"
      ]
    },
    {
      "cell_type": "markdown",
      "metadata": {
        "id": "PrBAo2nOPuZY"
      },
      "source": [
        "To find the best minimum cost, repeat steps to apply various values for $\\theta_0$ and $\\theta_1$. In other words, repeat steps until convergence evaluate the following:\n",
        "\n",
        "\\begin{align*}\n",
        "\\theta_0^{(i+1)}&=\\theta_0^i-\\eta\\theta_0'^{(i)}\\\\\n",
        "\\theta_1^{(i+1)}&=\\theta_1^i-\\eta\\theta_1'^{(i)}\\\\\n",
        "\\end{align*}\n",
        "\n",
        "where $\\eta$ is the learning rate.\n"
      ]
    },
    {
      "cell_type": "markdown",
      "metadata": {
        "id": "9smjAjXYPuZY"
      },
      "source": [
        "## Multiple Linear regression\n",
        "In the case of multiple linear regression, we have an input vector $X$ and the ground truth is $\\hat{y}$. The cost function in the case of MLR is the $MSE$ in prediction. Formally it can be defined as:\n",
        "\n",
        "$$ J(\\theta)=\\frac{1}{2m}\\sum\\limits_{i=1}^m\\left(h_\\theta(X^i)-\\hat{y}^i\\right)^2$$. Now the minimum direction is found by calculating gradient. Here we will have more partial derivatives like:\n",
        "\\begin{align*}\n",
        "\\theta_0'&=\\frac{1}{m}\\sum\\limits_{i=1}^m\\left(h_\\theta(X^i)-\\hat{y}^i\\right)\\\\\n",
        "\\theta_1'&=\\frac{1}{m}\\sum\\limits_{i=1}^m\\left(h_\\theta(X^i)-\\hat{y}^i\\right)x_1^i\\\\\n",
        "\\theta_2'&=\\frac{1}{m}\\sum\\limits_{i=1}^m\\left(h_\\theta(X^i)-\\hat{y}^i\\right)x_2^i\\\\\n",
        "\\cdots&\\cdots\n",
        "\\end{align*}"
      ]
    },
    {
      "cell_type": "markdown",
      "metadata": {
        "id": "RLxK6vJ6PuZZ"
      },
      "source": [
        "Now the updates in $\\theta$ will be summarized as:\n",
        "    \\begin{align*}\n",
        "\\theta_0^{(i+1)}&=\\theta_0^i-\\eta\\theta_0'^{(i)}\\\\\n",
        "\\theta_1^{(i+1)}&=\\theta_1^i-\\eta\\theta_1'^{(i)}\\\\\n",
        "\\theta_2^{(i+1)}&=\\theta_2^i-\\eta\\theta_2'^{(i)}\\\\\n",
        "\\cdots&\\cdots\n",
        "\\end{align*}"
      ]
    },
    {
      "cell_type": "markdown",
      "metadata": {
        "id": "jr1vCfLUPuZZ"
      },
      "source": [
        "# Example: Gradient descent in Python from scratch\n",
        "## Case 1: Simple Linear regression"
      ]
    },
    {
      "cell_type": "code",
      "execution_count": null,
      "metadata": {
        "id": "z9lljS9RPuZa",
        "outputId": "eb1f82bb-dce5-4950-a664-f8958e639d55"
      },
      "outputs": [
        {
          "name": "stdout",
          "output_type": "stream",
          "text": [
            "[[4.51359763]\n",
            " [2.9832342 ]]\n"
          ]
        }
      ],
      "source": [
        "import pandas as pd\n",
        "import numpy as np\n",
        "import matplotlib.pyplot as plt# ensure to use matplot library for plotting\n",
        "np.random.seed(42)# ensure reproducible research\n",
        "X=2*np.random.rand(100,1)# a column of 100 random numbers\n",
        "y=4+3*X+np.random.rand(100,1)\n",
        "X_b=np.concatenate([np.ones((100,1)), X], axis=1)# reformulate X \n",
        "eta=0.1 # define learning rate\n",
        "n_iter=1000 # number of epochs\n",
        "m=100 # number of samples\n",
        "theta=np.random.rand(2,1) # create an initial setup for theta\n",
        "for ind in range(n_iter):\n",
        "    grad=1/m*X_b.T.dot(X_b.dot(theta)-y)\n",
        "    theta=theta-eta*grad\n",
        "print(theta)\n",
        "y_p=X_b.dot(theta) \n",
        "#print(y_p.T) # predicted values\n",
        "#print(y) # actual values"
      ]
    },
    {
      "cell_type": "markdown",
      "metadata": {
        "id": "7ac2SxZhPuZb"
      },
      "source": [
        "## Case 2: Multiple linear regression"
      ]
    },
    {
      "cell_type": "code",
      "execution_count": null,
      "metadata": {
        "id": "QmmAsXg6PuZb",
        "outputId": "b1d7132a-02b1-4030-9ee5-80b3ee907516"
      },
      "outputs": [
        {
          "name": "stdout",
          "output_type": "stream",
          "text": [
            "[[4.55222768]\n",
            " [2.00029634]\n",
            " [0.96414812]]\n"
          ]
        }
      ],
      "source": [
        "import pandas as pd\n",
        "import numpy as np\n",
        "import matplotlib.pyplot as plt# ensure to use matplot library for plotting\n",
        "np.random.seed(42)# ensure reproducible research\n",
        "X=2*np.random.rand(100,2)# two columns of 100 random numbers\n",
        "t=np.array([2,1])\n",
        "y=4+np.dot(X,t.T).reshape(100,1)+np.random.rand(100,1)\n",
        "X_b=np.concatenate([np.ones((100,1)), X], axis=1)# reformulate X \n",
        "eta=0.1 # define learning rate\n",
        "n_iter=1000 # number of epochs\n",
        "m=100 # number of samples\n",
        "theta=np.random.rand(3,1) # create an initial setup for theta\n",
        "for ind in range(n_iter):\n",
        "    grad=1/m*X_b.T.dot(X_b.dot(theta)-y)\n",
        "    theta=theta-eta*grad\n",
        "print(theta)\n",
        "y_p=X_b.dot(theta) \n",
        "#print(y_p.T) # predicted values\n",
        "#print(y) # actual values"
      ]
    },
    {
      "cell_type": "markdown",
      "metadata": {
        "id": "t59otiRwPuZc"
      },
      "source": [
        "# 2. Using Scikit-learn machine learning libray in Python"
      ]
    },
    {
      "cell_type": "markdown",
      "metadata": {
        "id": "taTgactXPuZc"
      },
      "source": [
        "We know that linear regression is a popular technique and we might as well seen the mathematical equation of linear regression.  There are several ways in which we can do that, we can do linear regression using numpy, scipy, stats model and sckit learn. But in this post I am going to use scikit learn to perform linear regression.\n",
        "\n",
        "Scikit-learn is a powerful Python module for machine learning. It contains function for regression, classification, clustering, model selection and dimensionality reduction. Today, I will explore the sklearn.linear_model module which contains “methods intended for regression in which the target value is expected to be a linear combination of the input variables”."
      ]
    },
    {
      "cell_type": "markdown",
      "metadata": {
        "id": "_dcOqfaAPuZd"
      },
      "source": [
        "**Important points**: Important functions to keep in mind while fitting a linear regression model are:\n",
        "\n",
        ">1. `lm.fit()` -> fits a linear model\n",
        "\n",
        ">2. `lm.predict()` -> Predict Y using the linear model with estimated coefficients\n",
        "\n",
        ">3. `lm.score()` -> Returns the coefficient of determination ($R^2$). A measure of how well observed outcomes are replicated by the model, as the proportion of total variation of outcomes explained by the model."
      ]
    },
    {
      "cell_type": "markdown",
      "metadata": {
        "id": "fU4AZArGPuZe"
      },
      "source": [
        "# A direct regression problem with sklearn library- Piza price model"
      ]
    },
    {
      "cell_type": "markdown",
      "metadata": {
        "id": "vXevk_DCPuZe"
      },
      "source": [
        "## 1. reading data"
      ]
    },
    {
      "cell_type": "code",
      "execution_count": null,
      "metadata": {
        "id": "HANAsk78PuZe",
        "outputId": "7e63d926-f11d-46b1-bb79-d81cb158c992"
      },
      "outputs": [
        {
          "name": "stdout",
          "output_type": "stream",
          "text": [
            "[[ 7. ]\n",
            " [ 9. ]\n",
            " [13. ]\n",
            " [17.5]\n",
            " [18. ]]\n"
          ]
        }
      ],
      "source": [
        "import numpy as np\n",
        "X=[6,8,10,14,18]# reading as a list\n",
        "Y=[7,9,13,17.5,18]\n",
        "X=np.array(X).reshape(5,1) # converting list to a numpy array\n",
        "Y=np.array(Y).reshape(5,1)\n"
      ]
    },
    {
      "cell_type": "markdown",
      "metadata": {
        "id": "-G850_TdPuZf"
      },
      "source": [
        "## 2.a Visualizing as a scatter plot using Matplotlib"
      ]
    },
    {
      "cell_type": "code",
      "execution_count": null,
      "metadata": {
        "id": "xDPkw3jFPuZf",
        "outputId": "db4dee98-5d7d-4a6a-a841-7c9b139d65ab"
      },
      "outputs": [
        {
          "data": {
            "image/png": "[encoded data removed]",
            "text/plain": [
              "<Figure size 432x288 with 1 Axes>"
            ]
          },
          "metadata": {},
          "output_type": "display_data"
        }
      ],
      "source": [
        "import matplotlib.pyplot as plt# ensure to use matplot library for plotting\n",
        "plt.style.use('seaborn-whitegrid')\n",
        "plt.xlabel(\" Size of piza\")\n",
        "plt.ylabel(\" Prize of piza\")\n",
        "plt.scatter(X,Y)\n",
        "plt.plot(X,Y,'r')\n",
        "plt.show()"
      ]
    },
    {
      "cell_type": "markdown",
      "metadata": {
        "id": "ha9FPPfgPuZg"
      },
      "source": [
        "## 2.b Finding linear regression model parameters statistically\n",
        "\n",
        "$var(x)=\\frac{\\sum_{i=1}^n(x-\\bar{x})^2}{n-1}$\n",
        "\n",
        "$\\theta_1=\\frac{\n",
        "cov(x,y)}{var(x)}$; \n",
        "\n",
        "$\\theta_0=\\bar{y}-\\theta_1*\\bar{x}$\n",
        "\n",
        "$R^2=1-\\frac{SS_{res}}{SS_{tot}}$\n",
        "\n",
        "$SS_{res}=\\sum_{i=1}^n(y_i-f(x_i))^2$\n",
        "\n",
        "$SS_{tot}=\\sum_{i=1}^n(y_i-\\bar{y})^2$"
      ]
    },
    {
      "cell_type": "code",
      "execution_count": null,
      "metadata": {
        "id": "Uv8F3qPVPuZh",
        "outputId": "6f4872d8-5899-4c3d-8069-aa367a983480"
      },
      "outputs": [
        {
          "name": "stdout",
          "output_type": "stream",
          "text": [
            "23.2\n",
            "22.65\n",
            "1.9655172413793114\n"
          ]
        }
      ],
      "source": [
        "xL=[i[0] for i in X]\n",
        "yL=[i[0] for i in Y]\n",
        "var_x=np.var(xL,ddof=1)# d degrees of freedom\n",
        "cov_xy=np.cov(xL,yL,ddof=1)[0][1]\n",
        "print(var_x)\n",
        "print(cov_xy)\n",
        "xbar=np.mean(xL)\n",
        "ybar=np.mean(yL)\n",
        "theta_1=cov_xy/var_x\n",
        "theta_0=ybar-(theta_1*xbar)\n",
        "print(theta_0)\n",
        "y_p=theta_0+theta_1*X"
      ]
    },
    {
      "cell_type": "markdown",
      "metadata": {
        "id": "tE6h7v0SPuZi"
      },
      "source": [
        "## 3. Creating the model and finding parameters"
      ]
    },
    {
      "cell_type": "code",
      "execution_count": null,
      "metadata": {
        "id": "9JHjgl2qPuZi",
        "outputId": "06766b78-d901-4d3a-e5de-d45829f85b61"
      },
      "outputs": [
        {
          "name": "stdout",
          "output_type": "stream",
          "text": [
            "('estimated Intercept:', array([1.96551724]))\n",
            "('number of coefficients', 1)\n",
            "(' coefficients', array([[0.9762931]]))\n"
          ]
        }
      ],
      "source": [
        "from sklearn.linear_model import LinearRegression\n",
        "model=LinearRegression()\n",
        "model.fit(X,Y)\n",
        "print('estimated Intercept:',model.intercept_)\n",
        "print('number of coefficients',len(model.coef_))\n",
        "print(' coefficients',model.coef_)"
      ]
    },
    {
      "cell_type": "markdown",
      "metadata": {
        "id": "8APJGZWRPuZi"
      },
      "source": [
        "## 4. Predict using scikit learn library"
      ]
    },
    {
      "cell_type": "code",
      "execution_count": null,
      "metadata": {
        "id": "HZ2xP3SYPuZj",
        "outputId": "d5267ddc-3a51-4963-e0da-3df4affcb17f"
      },
      "outputs": [
        {
          "name": "stdout",
          "output_type": "stream",
          "text": [
            "[[ 9.77586207]\n",
            " [10.75215517]\n",
            " [12.70474138]\n",
            " [17.5862069 ]\n",
            " [13.68103448]]\n",
            "[[11. ]\n",
            " [ 8.5]\n",
            " [15. ]\n",
            " [18. ]\n",
            " [11. ]]\n"
          ]
        }
      ],
      "source": [
        "x_test=np.array([8,9,11,16,12]).reshape(5,1)\n",
        "y_test=np.array([11,8.5,15,18,11]).reshape(5,1)\n",
        "yp_test=model.predict(x_test)\n",
        "print(yp_test)\n",
        "print(y_test)"
      ]
    },
    {
      "cell_type": "markdown",
      "metadata": {
        "id": "yFIWmbCRPuZk"
      },
      "source": [
        "## Finding skill of the model"
      ]
    },
    {
      "cell_type": "code",
      "execution_count": null,
      "metadata": {
        "id": "NzBsGdEiPuZk",
        "outputId": "820e3c24-eba1-42aa-a187-ce9d57b6b0b2"
      },
      "outputs": [
        {
          "name": "stdout",
          "output_type": "stream",
          "text": [
            "0.9100015964240102\n"
          ]
        }
      ],
      "source": [
        "print(model.score(X,Y))"
      ]
    },
    {
      "cell_type": "markdown",
      "metadata": {
        "id": "KkSM62B7PuZl"
      },
      "source": [
        "## 5. plotting the fitted line using test data"
      ]
    },
    {
      "cell_type": "code",
      "execution_count": null,
      "metadata": {
        "id": "UmhbhhEsPuZm",
        "outputId": "052de623-5ce9-4f6d-cf20-59d1cf6158b5"
      },
      "outputs": [
        {
          "data": {
            "image/png": "[encoded data removed]",
            "text/plain": [
              "<Figure size 432x288 with 1 Axes>"
            ]
          },
          "metadata": {},
          "output_type": "display_data"
        }
      ],
      "source": [
        "plt.title(\"Piza price plotted against diameter\")\n",
        "x_fit=np.linspace(0,50)\n",
        "y_fit=theta_0+theta_1*x_fit\n",
        "plt.axis([0, 25, 0, 25])\n",
        "plt.plot(x_test,y_test,'k.')\n",
        "plt.plot(x_fit,y_fit,color=\"blue\")\n",
        "plt.show()"
      ]
    },
    {
      "cell_type": "markdown",
      "metadata": {
        "id": "4mSpO7dMPuZm"
      },
      "source": [
        "## 6. Visualizing error in prediction"
      ]
    },
    {
      "cell_type": "code",
      "execution_count": null,
      "metadata": {
        "id": "LAUST2UZPuZm",
        "outputId": "decaa707-790f-46f2-e2b2-c9c83f0b3f80"
      },
      "outputs": [
        {
          "data": {
            "image/png": "[encoded data removed]",
            "text/plain": [
              "<Figure size 432x288 with 1 Axes>"
            ]
          },
          "metadata": {},
          "output_type": "display_data"
        }
      ],
      "source": [
        "plt.title(\"Residual line plots\")\n",
        "plt.axis([0, 25, 0, 25])\n",
        "plt.plot(x_test,y_test,'k.')\n",
        "plt.plot(x_fit,y_fit,color=\"blue\")\n",
        "for i in range(0,len(x_test)):\n",
        "    plt.plot([x_test[i], x_test[i]], [yp_test[i], y_test[i]], color='red', linewidth=1)\n",
        "plt.show()"
      ]
    },
    {
      "cell_type": "markdown",
      "metadata": {
        "id": "tA4r0sogPuZn"
      },
      "source": [
        "## Polynomial regression using scikit learn"
      ]
    },
    {
      "cell_type": "code",
      "execution_count": null,
      "metadata": {
        "id": "fTxn0dPTPuZn"
      },
      "outputs": [],
      "source": [
        "from sklearn.preprocessing import PolynomialFeatures\n",
        "polyftquadra=PolynomialFeatures(degree=2)\n",
        "Xq_train=polyftquadra.fit_transform(X)\n",
        "Xq_test=polyftquadra.fit_transform(x_test)#transforming input to quadratic way\n",
        "print(Xq_train)\n",
        "print(Xq_test)"
      ]
    },
    {
      "cell_type": "code",
      "execution_count": null,
      "metadata": {
        "id": "mm0O2gs9PuZo"
      },
      "outputs": [],
      "source": [
        "# train the model\n",
        "\n",
        "modelQ=LinearRegression()\n",
        "modelQ.fit(Xq_train,Y)\n",
        "modelQ.predict(Xq_test)\n",
        "prval=[i[0] for i in modelQ.predict(Xq_test)]#copy values as a list\n",
        "R=modelQ.score(Xq_test,y_test)\n",
        "print(R)\n",
        "plt.plot(x_test,y_test,'k.')\n",
        "plt.plot(x_test,modelQ.predict(Xq_test))\n"
      ]
    },
    {
      "cell_type": "code",
      "execution_count": null,
      "metadata": {
        "id": "vq8e8QIiPuZo"
      },
      "outputs": [],
      "source": [
        "# Generate a cubic model\n",
        "from sklearn.preprocessing import PolynomialFeatures\n",
        "polyftquadra=PolynomialFeatures(degree=3)\n",
        "Xc_train=polyftquadra.fit_transform(X)\n",
        "Xc_test=polyftquadra.fit_transform(x_test)#transforming input to quadratic way\n",
        "modelC=LinearRegression()\n",
        "modelC.fit(Xc_train,Y)\n",
        "#prvc=[i[0] for i in modelC.predict(Xc_test)]\n",
        "plt.plot(x_test,modelC.predict(Xc_test))\n",
        "#modelC.score(Xc_test,y_test)"
      ]
    },
    {
      "cell_type": "code",
      "execution_count": null,
      "metadata": {
        "id": "Gai8EjSnPuZo"
      },
      "outputs": [],
      "source": []
    }
  ],
  "metadata": {
    "kernelspec": {
      "display_name": "Python 3",
      "language": "python",
      "name": "python3"
    },
    "language_info": {
      "codemirror_mode": {
        "name": "ipython",
        "version": 3
      },
      "file_extension": ".py",
      "mimetype": "text/x-python",
      "name": "python",
      "nbconvert_exporter": "python",
      "pygments_lexer": "ipython3",
      "version": "3.6.4"
    },
    "colab": {
      "name": "Linear Regression-Academic Tribe.ipynb",
      "provenance": [],
      "include_colab_link": true
    }
  },
  "nbformat": 4,
  "nbformat_minor": 0
}